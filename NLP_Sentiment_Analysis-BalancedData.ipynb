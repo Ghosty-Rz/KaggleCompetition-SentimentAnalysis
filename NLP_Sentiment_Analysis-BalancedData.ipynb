{
 "cells": [
  {
   "cell_type": "markdown",
   "id": "7c6c01eb-fb4d-4429-bf66-3a07c7efb64d",
   "metadata": {
    "id": "7c6c01eb-fb4d-4429-bf66-3a07c7efb64d"
   },
   "source": [
    "# Importing necessary libraries"
   ]
  },
  {
   "cell_type": "code",
   "execution_count": 1,
   "id": "73999721-63cc-4ff2-a128-4649bd8f48ce",
   "metadata": {
    "id": "73999721-63cc-4ff2-a128-4649bd8f48ce"
   },
   "outputs": [],
   "source": [
    "import pandas as pd\n",
    "import numpy as np\n",
    "import matplotlib.pyplot as plt\n",
    "import seaborn as sns\n",
    "from sklearn.model_selection import train_test_split\n",
    "\n",
    "import nltk\n",
    "from nltk.sentiment import SentimentIntensityAnalyzer\n",
    "from nltk.tokenize import word_tokenize\n",
    "from tqdm import tqdm  # This is not necessary but we added for the progress bar\n",
    "from imblearn.over_sampling import SMOTE\n",
    "import pickle"
   ]
  },
  {
   "cell_type": "markdown",
   "id": "Btz197iV2KWB",
   "metadata": {
    "id": "Btz197iV2KWB"
   },
   "source": [
    "# Mounting Data from Drive"
   ]
  },
  {
   "cell_type": "code",
   "execution_count": 2,
   "id": "l9T5R6Nj2OiO",
   "metadata": {
    "colab": {
     "base_uri": "https://localhost:8080/"
    },
    "id": "l9T5R6Nj2OiO",
    "outputId": "e14be056-09e6-4bac-f976-dc4666ae9a13"
   },
   "outputs": [
    {
     "name": "stdout",
     "output_type": "stream",
     "text": [
      "Drive already mounted at /content/drive; to attempt to forcibly remount, call drive.mount(\"/content/drive\", force_remount=True).\n"
     ]
    }
   ],
   "source": [
    "import os\n",
    "from google.colab import drive\n",
    "drive.mount('/content/drive')"
   ]
  },
  {
   "cell_type": "markdown",
   "id": "252ce384-125e-44c9-b18d-929cba838286",
   "metadata": {
    "id": "252ce384-125e-44c9-b18d-929cba838286"
   },
   "source": [
    "# Loading Data"
   ]
  },
  {
   "cell_type": "code",
   "execution_count": 3,
   "id": "b8433575-05ff-4519-b589-c6d203fe1edd",
   "metadata": {
    "colab": {
     "base_uri": "https://localhost:8080/",
     "height": 310
    },
    "id": "b8433575-05ff-4519-b589-c6d203fe1edd",
    "outputId": "55053f02-d215-40c3-9a45-0d52e8bc490c"
   },
   "outputs": [
    {
     "data": {
      "text/html": [
       "<div>\n",
       "<style scoped>\n",
       "    .dataframe tbody tr th:only-of-type {\n",
       "        vertical-align: middle;\n",
       "    }\n",
       "\n",
       "    .dataframe tbody tr th {\n",
       "        vertical-align: top;\n",
       "    }\n",
       "\n",
       "    .dataframe thead th {\n",
       "        text-align: right;\n",
       "    }\n",
       "</style>\n",
       "<table border=\"1\" class=\"dataframe\">\n",
       "  <thead>\n",
       "    <tr style=\"text-align: right;\">\n",
       "      <th></th>\n",
       "      <th>desc_id</th>\n",
       "      <th>source_name</th>\n",
       "      <th>review_text</th>\n",
       "      <th>is_accessibility</th>\n",
       "      <th>cleanText</th>\n",
       "      <th>Vader Sentiment</th>\n",
       "    </tr>\n",
       "  </thead>\n",
       "  <tbody>\n",
       "    <tr>\n",
       "      <th>0</th>\n",
       "      <td>1</td>\n",
       "      <td>gp_AOqpTOE-4PtpSwSKzv8CF6EtR6seFSLwg-QQPTpQKze...</td>\n",
       "      <td>Excellent app.  Been using it for years on man...</td>\n",
       "      <td>Accessibility Review</td>\n",
       "      <td>excellent app using years many different phone...</td>\n",
       "      <td>Positive</td>\n",
       "    </tr>\n",
       "    <tr>\n",
       "      <th>1</th>\n",
       "      <td>1</td>\n",
       "      <td>gp_AOqpTOGPKJI_1QuwFgSTcvd7BanaHdhJoLUXZDx8OVt...</td>\n",
       "      <td>I've used this on a different phone - but cur...</td>\n",
       "      <td>Accessibility Review</td>\n",
       "      <td>used different phone currently moto android re...</td>\n",
       "      <td>Positive</td>\n",
       "    </tr>\n",
       "    <tr>\n",
       "      <th>2</th>\n",
       "      <td>1</td>\n",
       "      <td>lg_AOqpTOE5_m1p9SEdAbCNs_Nh_qN7EHMLnyPnytEW9NX...</td>\n",
       "      <td>Fantastic program! Instant search results and...</td>\n",
       "      <td>Accessibility Review</td>\n",
       "      <td>fantastic program instant search results fast ...</td>\n",
       "      <td>Positive</td>\n",
       "    </tr>\n",
       "    <tr>\n",
       "      <th>3</th>\n",
       "      <td>1</td>\n",
       "      <td>lg_AOqpTOEyZAX-Z1qAqVvbqV8s6vJAttZvFBFixQTM_jW...</td>\n",
       "      <td>I'm using this on my mobile as well as on PC ...</td>\n",
       "      <td>Accessibility Review</td>\n",
       "      <td>using mobile well view offline dictionaries us...</td>\n",
       "      <td>Positive</td>\n",
       "    </tr>\n",
       "    <tr>\n",
       "      <th>4</th>\n",
       "      <td>1</td>\n",
       "      <td>gp_AOqpTOE6SfnT_RCAb9w8AbMpASAbJDvsJIHxp_xuhKg...</td>\n",
       "      <td>Text reflow doesn't work. I want my money back...</td>\n",
       "      <td>Accessibility Review</td>\n",
       "      <td>text reflow work want money back</td>\n",
       "      <td>Positive</td>\n",
       "    </tr>\n",
       "  </tbody>\n",
       "</table>\n",
       "</div>"
      ],
      "text/plain": [
       "   desc_id                                        source_name  \\\n",
       "0        1  gp_AOqpTOE-4PtpSwSKzv8CF6EtR6seFSLwg-QQPTpQKze...   \n",
       "1        1  gp_AOqpTOGPKJI_1QuwFgSTcvd7BanaHdhJoLUXZDx8OVt...   \n",
       "2        1  lg_AOqpTOE5_m1p9SEdAbCNs_Nh_qN7EHMLnyPnytEW9NX...   \n",
       "3        1  lg_AOqpTOEyZAX-Z1qAqVvbqV8s6vJAttZvFBFixQTM_jW...   \n",
       "4        1  gp_AOqpTOE6SfnT_RCAb9w8AbMpASAbJDvsJIHxp_xuhKg...   \n",
       "\n",
       "                                         review_text      is_accessibility  \\\n",
       "0  Excellent app.  Been using it for years on man...  Accessibility Review   \n",
       "1   I've used this on a different phone - but cur...  Accessibility Review   \n",
       "2   Fantastic program! Instant search results and...  Accessibility Review   \n",
       "3   I'm using this on my mobile as well as on PC ...  Accessibility Review   \n",
       "4  Text reflow doesn't work. I want my money back...  Accessibility Review   \n",
       "\n",
       "                                           cleanText Vader Sentiment  \n",
       "0  excellent app using years many different phone...        Positive  \n",
       "1  used different phone currently moto android re...        Positive  \n",
       "2  fantastic program instant search results fast ...        Positive  \n",
       "3  using mobile well view offline dictionaries us...        Positive  \n",
       "4                   text reflow work want money back        Positive  "
      ]
     },
     "execution_count": 3,
     "metadata": {},
     "output_type": "execute_result"
    }
   ],
   "source": [
    "train_df = pd.read_csv(\"/content/drive/MyDrive/Colab Notebooks/train.csv\")\n",
    "\n",
    "train_df.head()"
   ]
  },
  {
   "cell_type": "markdown",
   "id": "1b7c5893-95ed-48d7-a757-0737af7b9ffe",
   "metadata": {
    "id": "1b7c5893-95ed-48d7-a757-0737af7b9ffe"
   },
   "source": [
    "# Quick Data Analysis & Visualization"
   ]
  },
  {
   "cell_type": "code",
   "execution_count": 6,
   "id": "19791669-e297-47f3-9abc-9d3ebcdd5d68",
   "metadata": {
    "colab": {
     "base_uri": "https://localhost:8080/"
    },
    "id": "19791669-e297-47f3-9abc-9d3ebcdd5d68",
    "outputId": "4288085d-8529-47ff-9a18-8f6be130de07"
   },
   "outputs": [
    {
     "data": {
      "text/plain": [
       "(1985, 6)"
      ]
     },
     "execution_count": 6,
     "metadata": {},
     "output_type": "execute_result"
    }
   ],
   "source": [
    "train_df.shape"
   ]
  },
  {
   "cell_type": "code",
   "execution_count": 8,
   "id": "37f2b086-7284-4690-80ba-c13f8ad12481",
   "metadata": {
    "colab": {
     "base_uri": "https://localhost:8080/"
    },
    "id": "37f2b086-7284-4690-80ba-c13f8ad12481",
    "outputId": "2488205e-a716-4e8e-912e-711625af0a39"
   },
   "outputs": [
    {
     "name": "stdout",
     "output_type": "stream",
     "text": [
      "<class 'pandas.core.frame.DataFrame'>\n",
      "RangeIndex: 1985 entries, 0 to 1984\n",
      "Data columns (total 6 columns):\n",
      " #   Column            Non-Null Count  Dtype \n",
      "---  ------            --------------  ----- \n",
      " 0   desc_id           1985 non-null   int64 \n",
      " 1   source_name       1985 non-null   object\n",
      " 2   review_text       1984 non-null   object\n",
      " 3   is_accessibility  1985 non-null   object\n",
      " 4   cleanText         1982 non-null   object\n",
      " 5   Vader Sentiment   1985 non-null   object\n",
      "dtypes: int64(1), object(5)\n",
      "memory usage: 93.2+ KB\n"
     ]
    }
   ],
   "source": [
    "train_df.info()"
   ]
  },
  {
   "cell_type": "code",
   "execution_count": 10,
   "id": "58447e9a-d520-4028-8960-5c12f5a5b8b7",
   "metadata": {
    "colab": {
     "base_uri": "https://localhost:8080/",
     "height": 407
    },
    "id": "58447e9a-d520-4028-8960-5c12f5a5b8b7",
    "outputId": "73865f36-6da2-4422-c370-94d0c9c5e787"
   },
   "outputs": [
    {
     "data": {
      "image/png": "[encoded data removed]",
      "text/plain": [
       "<Figure size 600x400 with 1 Axes>"
      ]
     },
     "metadata": {},
     "output_type": "display_data"
    }
   ],
   "source": [
    "plt.figure(figsize=(6, 4))\n",
    "sns.countplot(x='Vader Sentiment', data=train_df)\n",
    "plt.title('Positives vs. Negatives vs. Neutral')\n",
    "plt.xlabel('Vader Sentiment')\n",
    "plt.ylabel('Count')\n",
    "plt.tight_layout()\n",
    "plt.show()"
   ]
  },
  {
   "cell_type": "markdown",
   "id": "roqMvJMNSLwG",
   "metadata": {
    "id": "roqMvJMNSLwG"
   },
   "source": [
    "# Pre-Processing"
   ]
  },
  {
   "cell_type": "markdown",
   "id": "cbefde5a-dc60-4fa6-9d52-a8ec6384a7d5",
   "metadata": {
    "id": "cbefde5a-dc60-4fa6-9d52-a8ec6384a7d5"
   },
   "source": [
    "# Drop rows where the 'vader sentiment' column is 'neutral'"
   ]
  },
  {
   "cell_type": "code",
   "execution_count": 13,
   "id": "375e8b0a-4fd6-483a-8bcb-dd165e5f37d7",
   "metadata": {
    "colab": {
     "base_uri": "https://localhost:8080/",
     "height": 718
    },
    "id": "375e8b0a-4fd6-483a-8bcb-dd165e5f37d7",
    "outputId": "98ef6ebc-56db-4db1-9b77-e9a5b78c7678"
   },
   "outputs": [
    {
     "name": "stdout",
     "output_type": "stream",
     "text": [
      "Rows after removing neutral sentiments: 1804\n",
      "Vader Sentiment\n",
      "Positive    1590\n",
      "Negative     214\n",
      "Name: count, dtype: int64\n",
      "Neutral rows removed successfully!\n"
     ]
    },
    {
     "data": {
      "text/html": [
       "<div>\n",
       "<style scoped>\n",
       "    .dataframe tbody tr th:only-of-type {\n",
       "        vertical-align: middle;\n",
       "    }\n",
       "\n",
       "    .dataframe tbody tr th {\n",
       "        vertical-align: top;\n",
       "    }\n",
       "\n",
       "    .dataframe thead th {\n",
       "        text-align: right;\n",
       "    }\n",
       "</style>\n",
       "<table border=\"1\" class=\"dataframe\">\n",
       "  <thead>\n",
       "    <tr style=\"text-align: right;\">\n",
       "      <th></th>\n",
       "      <th>desc_id</th>\n",
       "      <th>source_name</th>\n",
       "      <th>review_text</th>\n",
       "      <th>is_accessibility</th>\n",
       "      <th>cleanText</th>\n",
       "      <th>Vader Sentiment</th>\n",
       "    </tr>\n",
       "  </thead>\n",
       "  <tbody>\n",
       "    <tr>\n",
       "      <th>0</th>\n",
       "      <td>1</td>\n",
       "      <td>gp_AOqpTOE-4PtpSwSKzv8CF6EtR6seFSLwg-QQPTpQKze...</td>\n",
       "      <td>Excellent app.  Been using it for years on man...</td>\n",
       "      <td>Accessibility Review</td>\n",
       "      <td>excellent app using years many different phone...</td>\n",
       "      <td>Positive</td>\n",
       "    </tr>\n",
       "    <tr>\n",
       "      <th>1</th>\n",
       "      <td>1</td>\n",
       "      <td>gp_AOqpTOGPKJI_1QuwFgSTcvd7BanaHdhJoLUXZDx8OVt...</td>\n",
       "      <td>I've used this on a different phone - but cur...</td>\n",
       "      <td>Accessibility Review</td>\n",
       "      <td>used different phone currently moto android re...</td>\n",
       "      <td>Positive</td>\n",
       "    </tr>\n",
       "    <tr>\n",
       "      <th>2</th>\n",
       "      <td>1</td>\n",
       "      <td>lg_AOqpTOE5_m1p9SEdAbCNs_Nh_qN7EHMLnyPnytEW9NX...</td>\n",
       "      <td>Fantastic program! Instant search results and...</td>\n",
       "      <td>Accessibility Review</td>\n",
       "      <td>fantastic program instant search results fast ...</td>\n",
       "      <td>Positive</td>\n",
       "    </tr>\n",
       "    <tr>\n",
       "      <th>3</th>\n",
       "      <td>1</td>\n",
       "      <td>lg_AOqpTOEyZAX-Z1qAqVvbqV8s6vJAttZvFBFixQTM_jW...</td>\n",
       "      <td>I'm using this on my mobile as well as on PC ...</td>\n",
       "      <td>Accessibility Review</td>\n",
       "      <td>using mobile well view offline dictionaries us...</td>\n",
       "      <td>Positive</td>\n",
       "    </tr>\n",
       "    <tr>\n",
       "      <th>4</th>\n",
       "      <td>1</td>\n",
       "      <td>gp_AOqpTOE6SfnT_RCAb9w8AbMpASAbJDvsJIHxp_xuhKg...</td>\n",
       "      <td>Text reflow doesn't work. I want my money back...</td>\n",
       "      <td>Accessibility Review</td>\n",
       "      <td>text reflow work want money back</td>\n",
       "      <td>Positive</td>\n",
       "    </tr>\n",
       "    <tr>\n",
       "      <th>...</th>\n",
       "      <td>...</td>\n",
       "      <td>...</td>\n",
       "      <td>...</td>\n",
       "      <td>...</td>\n",
       "      <td>...</td>\n",
       "      <td>...</td>\n",
       "    </tr>\n",
       "    <tr>\n",
       "      <th>109</th>\n",
       "      <td>1</td>\n",
       "      <td>gp_AOqpTOHLMmleIDlZQNnU9zkNiTsqBiyyuXGuTNuwYt5...</td>\n",
       "      <td>Best ad blocker in the world but it MUST be ac...</td>\n",
       "      <td>Accessibility Review</td>\n",
       "      <td>best blocker world must accessible two browsers</td>\n",
       "      <td>Positive</td>\n",
       "    </tr>\n",
       "    <tr>\n",
       "      <th>110</th>\n",
       "      <td>1</td>\n",
       "      <td>gp_AOqpTOHmw4lRFSlqWmqF6vrOtMHfCYejSVJGg16akKW...</td>\n",
       "      <td>Amoled black theme please</td>\n",
       "      <td>Accessibility Review</td>\n",
       "      <td>amoled black theme please</td>\n",
       "      <td>Positive</td>\n",
       "    </tr>\n",
       "    <tr>\n",
       "      <th>111</th>\n",
       "      <td>1</td>\n",
       "      <td>gp_AOqpTOG05P6bOA1ydR_ProSM_QZoRcZ1iIYOPSh9Xee...</td>\n",
       "      <td>I like your Just Notes applications but I thin...</td>\n",
       "      <td>Accessibility Review</td>\n",
       "      <td>like notes applications think applications cou...</td>\n",
       "      <td>Positive</td>\n",
       "    </tr>\n",
       "    <tr>\n",
       "      <th>112</th>\n",
       "      <td>1</td>\n",
       "      <td>gp_AOqpTOE1R15VVjq3igH83s11zZ66OPdOxyaUOH5zRnC...</td>\n",
       "      <td>Can't you just hide the green preview of the ...</td>\n",
       "      <td>Accessibility Review</td>\n",
       "      <td>hide green preview sidebar sometimes obstructs...</td>\n",
       "      <td>Positive</td>\n",
       "    </tr>\n",
       "    <tr>\n",
       "      <th>113</th>\n",
       "      <td>1</td>\n",
       "      <td>gp_AOqpTOE3xdNnXzYAXBsVPos1HDrJEZYosjSQc0MLZCN...</td>\n",
       "      <td>Great - does what it's meant to - but would l...</td>\n",
       "      <td>Accessibility Review</td>\n",
       "      <td>great meant would love heptic feedback previou...</td>\n",
       "      <td>Positive</td>\n",
       "    </tr>\n",
       "  </tbody>\n",
       "</table>\n",
       "<p>100 rows × 6 columns</p>\n",
       "</div>"
      ],
      "text/plain": [
       "     desc_id                                        source_name  \\\n",
       "0          1  gp_AOqpTOE-4PtpSwSKzv8CF6EtR6seFSLwg-QQPTpQKze...   \n",
       "1          1  gp_AOqpTOGPKJI_1QuwFgSTcvd7BanaHdhJoLUXZDx8OVt...   \n",
       "2          1  lg_AOqpTOE5_m1p9SEdAbCNs_Nh_qN7EHMLnyPnytEW9NX...   \n",
       "3          1  lg_AOqpTOEyZAX-Z1qAqVvbqV8s6vJAttZvFBFixQTM_jW...   \n",
       "4          1  gp_AOqpTOE6SfnT_RCAb9w8AbMpASAbJDvsJIHxp_xuhKg...   \n",
       "..       ...                                                ...   \n",
       "109        1  gp_AOqpTOHLMmleIDlZQNnU9zkNiTsqBiyyuXGuTNuwYt5...   \n",
       "110        1  gp_AOqpTOHmw4lRFSlqWmqF6vrOtMHfCYejSVJGg16akKW...   \n",
       "111        1  gp_AOqpTOG05P6bOA1ydR_ProSM_QZoRcZ1iIYOPSh9Xee...   \n",
       "112        1  gp_AOqpTOE1R15VVjq3igH83s11zZ66OPdOxyaUOH5zRnC...   \n",
       "113        1  gp_AOqpTOE3xdNnXzYAXBsVPos1HDrJEZYosjSQc0MLZCN...   \n",
       "\n",
       "                                           review_text      is_accessibility  \\\n",
       "0    Excellent app.  Been using it for years on man...  Accessibility Review   \n",
       "1     I've used this on a different phone - but cur...  Accessibility Review   \n",
       "2     Fantastic program! Instant search results and...  Accessibility Review   \n",
       "3     I'm using this on my mobile as well as on PC ...  Accessibility Review   \n",
       "4    Text reflow doesn't work. I want my money back...  Accessibility Review   \n",
       "..                                                 ...                   ...   \n",
       "109  Best ad blocker in the world but it MUST be ac...  Accessibility Review   \n",
       "110                          Amoled black theme please  Accessibility Review   \n",
       "111  I like your Just Notes applications but I thin...  Accessibility Review   \n",
       "112   Can't you just hide the green preview of the ...  Accessibility Review   \n",
       "113   Great - does what it's meant to - but would l...  Accessibility Review   \n",
       "\n",
       "                                             cleanText Vader Sentiment  \n",
       "0    excellent app using years many different phone...        Positive  \n",
       "1    used different phone currently moto android re...        Positive  \n",
       "2    fantastic program instant search results fast ...        Positive  \n",
       "3    using mobile well view offline dictionaries us...        Positive  \n",
       "4                     text reflow work want money back        Positive  \n",
       "..                                                 ...             ...  \n",
       "109    best blocker world must accessible two browsers        Positive  \n",
       "110                          amoled black theme please        Positive  \n",
       "111  like notes applications think applications cou...        Positive  \n",
       "112  hide green preview sidebar sometimes obstructs...        Positive  \n",
       "113  great meant would love heptic feedback previou...        Positive  \n",
       "\n",
       "[100 rows x 6 columns]"
      ]
     },
     "execution_count": 13,
     "metadata": {},
     "output_type": "execute_result"
    }
   ],
   "source": [
    "train_df = train_df[train_df['Vader Sentiment'] != \"Neutral\"]\n",
    "\n",
    "# Saving the cleaned dataset\n",
    "train_df.to_csv(\"/content/drive/MyDrive/Colab Notebooks/cleaned_train.csv\", index=False)\n",
    "\n",
    "\n",
    "\n",
    "print(\"Rows after removing neutral sentiments:\", len(train_df))\n",
    "print(train_df['Vader Sentiment'].value_counts())\n",
    "print(\"Neutral rows removed successfully!\")\n",
    "\n",
    "train_df.head(100)"
   ]
  },
  {
   "cell_type": "markdown",
   "id": "mGgY89AtTobB",
   "metadata": {
    "id": "mGgY89AtTobB"
   },
   "source": [
    "# Oversampling to get balanced data"
   ]
  },
  {
   "cell_type": "code",
   "execution_count": 16,
   "id": "_jvxnf8VTpqg",
   "metadata": {
    "colab": {
     "base_uri": "https://localhost:8080/"
    },
    "id": "_jvxnf8VTpqg",
    "outputId": "171d274b-a80b-4fcb-f296-690ae6579c2b"
   },
   "outputs": [
    {
     "name": "stdout",
     "output_type": "stream",
     "text": [
      "Balanced dataset saved successfully!\n"
     ]
    }
   ],
   "source": [
    "from imblearn.over_sampling import RandomOverSampler\n",
    "\n",
    "# Load your dataset\n",
    "train_df = pd.read_csv(\"/content/drive/MyDrive/Colab Notebooks/cleaned_train.csv\")\n",
    "\n",
    "# Separate the features and target variable\n",
    "X = train_df.drop(columns=['Vader Sentiment'])\n",
    "y = train_df['Vader Sentiment']\n",
    "\n",
    "# Performing the oversampling using 'RandomOverSampler' - SMOTE didn't work for us\n",
    "ros = RandomOverSampler(sampling_strategy='minority', random_state=42)\n",
    "X_resampled, y_resampled = ros.fit_resample(X, y)\n",
    "\n",
    "# Updating the dataframe with new balanced dataset\n",
    "train_df = pd.concat([X_resampled, y_resampled], axis=1)\n",
    "\n",
    "# Saving the balanced dataset again\n",
    "train_df.to_csv(\"/content/drive/MyDrive/Colab Notebooks/cleaned_train.csv\", index=False)\n",
    "\n",
    "print(\"Balanced dataset saved successfully!\")"
   ]
  },
  {
   "cell_type": "code",
   "execution_count": 18,
   "id": "xAur1wfcT0tr",
   "metadata": {
    "colab": {
     "base_uri": "https://localhost:8080/",
     "height": 614
    },
    "id": "xAur1wfcT0tr",
    "outputId": "878a7630-cd5e-49d2-ca8e-4f658f926daf"
   },
   "outputs": [
    {
     "data": {
      "text/html": [
       "<div>\n",
       "<style scoped>\n",
       "    .dataframe tbody tr th:only-of-type {\n",
       "        vertical-align: middle;\n",
       "    }\n",
       "\n",
       "    .dataframe tbody tr th {\n",
       "        vertical-align: top;\n",
       "    }\n",
       "\n",
       "    .dataframe thead th {\n",
       "        text-align: right;\n",
       "    }\n",
       "</style>\n",
       "<table border=\"1\" class=\"dataframe\">\n",
       "  <thead>\n",
       "    <tr style=\"text-align: right;\">\n",
       "      <th></th>\n",
       "      <th>desc_id</th>\n",
       "      <th>source_name</th>\n",
       "      <th>review_text</th>\n",
       "      <th>is_accessibility</th>\n",
       "      <th>cleanText</th>\n",
       "      <th>Vader Sentiment</th>\n",
       "    </tr>\n",
       "  </thead>\n",
       "  <tbody>\n",
       "    <tr>\n",
       "      <th>0</th>\n",
       "      <td>1</td>\n",
       "      <td>gp_AOqpTOE-4PtpSwSKzv8CF6EtR6seFSLwg-QQPTpQKze...</td>\n",
       "      <td>Excellent app.  Been using it for years on man...</td>\n",
       "      <td>Accessibility Review</td>\n",
       "      <td>excellent app using years many different phone...</td>\n",
       "      <td>Positive</td>\n",
       "    </tr>\n",
       "    <tr>\n",
       "      <th>1</th>\n",
       "      <td>1</td>\n",
       "      <td>gp_AOqpTOGPKJI_1QuwFgSTcvd7BanaHdhJoLUXZDx8OVt...</td>\n",
       "      <td>I've used this on a different phone - but cur...</td>\n",
       "      <td>Accessibility Review</td>\n",
       "      <td>used different phone currently moto android re...</td>\n",
       "      <td>Positive</td>\n",
       "    </tr>\n",
       "    <tr>\n",
       "      <th>2</th>\n",
       "      <td>1</td>\n",
       "      <td>lg_AOqpTOE5_m1p9SEdAbCNs_Nh_qN7EHMLnyPnytEW9NX...</td>\n",
       "      <td>Fantastic program! Instant search results and...</td>\n",
       "      <td>Accessibility Review</td>\n",
       "      <td>fantastic program instant search results fast ...</td>\n",
       "      <td>Positive</td>\n",
       "    </tr>\n",
       "    <tr>\n",
       "      <th>3</th>\n",
       "      <td>1</td>\n",
       "      <td>lg_AOqpTOEyZAX-Z1qAqVvbqV8s6vJAttZvFBFixQTM_jW...</td>\n",
       "      <td>I'm using this on my mobile as well as on PC ...</td>\n",
       "      <td>Accessibility Review</td>\n",
       "      <td>using mobile well view offline dictionaries us...</td>\n",
       "      <td>Positive</td>\n",
       "    </tr>\n",
       "    <tr>\n",
       "      <th>4</th>\n",
       "      <td>1</td>\n",
       "      <td>gp_AOqpTOE6SfnT_RCAb9w8AbMpASAbJDvsJIHxp_xuhKg...</td>\n",
       "      <td>Text reflow doesn't work. I want my money back...</td>\n",
       "      <td>Accessibility Review</td>\n",
       "      <td>text reflow work want money back</td>\n",
       "      <td>Positive</td>\n",
       "    </tr>\n",
       "    <tr>\n",
       "      <th>...</th>\n",
       "      <td>...</td>\n",
       "      <td>...</td>\n",
       "      <td>...</td>\n",
       "      <td>...</td>\n",
       "      <td>...</td>\n",
       "      <td>...</td>\n",
       "    </tr>\n",
       "    <tr>\n",
       "      <th>3175</th>\n",
       "      <td>1</td>\n",
       "      <td>gp_AOqpTOF071lipLPfUBJdcVLzE8igfZ5SpVJH_yHzVI6...</td>\n",
       "      <td>It's ok does not zoom on my galaxy S 4 makes ...</td>\n",
       "      <td>Accessibility Review</td>\n",
       "      <td>zoom galaxy makes really hard read need magnif...</td>\n",
       "      <td>Negative</td>\n",
       "    </tr>\n",
       "    <tr>\n",
       "      <th>3176</th>\n",
       "      <td>1</td>\n",
       "      <td>gp_AOqpTOGntG02hpvWsJyqwEZX-gW1G0qyv7sTAKCy70s...</td>\n",
       "      <td>Works as advertised - but missing some notable...</td>\n",
       "      <td>Accessibility Review</td>\n",
       "      <td>works advertised missing notable features comi...</td>\n",
       "      <td>Negative</td>\n",
       "    </tr>\n",
       "    <tr>\n",
       "      <th>3177</th>\n",
       "      <td>1</td>\n",
       "      <td>lg_AOqpTOFxw3pHVKLbRL85j3aXs7JKmprgddxOKBO5Yco...</td>\n",
       "      <td>Alarm volume fade doesn't work</td>\n",
       "      <td>Accessibility Review</td>\n",
       "      <td>alarm volume fade work</td>\n",
       "      <td>Negative</td>\n",
       "    </tr>\n",
       "    <tr>\n",
       "      <th>3178</th>\n",
       "      <td>1</td>\n",
       "      <td>gp_AOqpTOHJfraYstFRM01yKI_V0GxM69nWxUGEzGaP6lx...</td>\n",
       "      <td>The latest update has stopped rendering any ma...</td>\n",
       "      <td>Accessibility Review</td>\n",
       "      <td>latest update stopped rendering map zoom enoug...</td>\n",
       "      <td>Negative</td>\n",
       "    </tr>\n",
       "    <tr>\n",
       "      <th>3179</th>\n",
       "      <td>1</td>\n",
       "      <td>gp_AOqpTOEaJC0dt4Y5CKXZkxYG3e2mNXqiivAUDLfY6nP...</td>\n",
       "      <td>Please add Edge Width = None option - Zoom = F...</td>\n",
       "      <td>Accessibility Review</td>\n",
       "      <td>please add edge width none option zoom fit hei...</td>\n",
       "      <td>Negative</td>\n",
       "    </tr>\n",
       "  </tbody>\n",
       "</table>\n",
       "<p>3180 rows × 6 columns</p>\n",
       "</div>"
      ],
      "text/plain": [
       "      desc_id                                        source_name  \\\n",
       "0           1  gp_AOqpTOE-4PtpSwSKzv8CF6EtR6seFSLwg-QQPTpQKze...   \n",
       "1           1  gp_AOqpTOGPKJI_1QuwFgSTcvd7BanaHdhJoLUXZDx8OVt...   \n",
       "2           1  lg_AOqpTOE5_m1p9SEdAbCNs_Nh_qN7EHMLnyPnytEW9NX...   \n",
       "3           1  lg_AOqpTOEyZAX-Z1qAqVvbqV8s6vJAttZvFBFixQTM_jW...   \n",
       "4           1  gp_AOqpTOE6SfnT_RCAb9w8AbMpASAbJDvsJIHxp_xuhKg...   \n",
       "...       ...                                                ...   \n",
       "3175        1  gp_AOqpTOF071lipLPfUBJdcVLzE8igfZ5SpVJH_yHzVI6...   \n",
       "3176        1  gp_AOqpTOGntG02hpvWsJyqwEZX-gW1G0qyv7sTAKCy70s...   \n",
       "3177        1  lg_AOqpTOFxw3pHVKLbRL85j3aXs7JKmprgddxOKBO5Yco...   \n",
       "3178        1  gp_AOqpTOHJfraYstFRM01yKI_V0GxM69nWxUGEzGaP6lx...   \n",
       "3179        1  gp_AOqpTOEaJC0dt4Y5CKXZkxYG3e2mNXqiivAUDLfY6nP...   \n",
       "\n",
       "                                            review_text      is_accessibility  \\\n",
       "0     Excellent app.  Been using it for years on man...  Accessibility Review   \n",
       "1      I've used this on a different phone - but cur...  Accessibility Review   \n",
       "2      Fantastic program! Instant search results and...  Accessibility Review   \n",
       "3      I'm using this on my mobile as well as on PC ...  Accessibility Review   \n",
       "4     Text reflow doesn't work. I want my money back...  Accessibility Review   \n",
       "...                                                 ...                   ...   \n",
       "3175   It's ok does not zoom on my galaxy S 4 makes ...  Accessibility Review   \n",
       "3176  Works as advertised - but missing some notable...  Accessibility Review   \n",
       "3177                     Alarm volume fade doesn't work  Accessibility Review   \n",
       "3178  The latest update has stopped rendering any ma...  Accessibility Review   \n",
       "3179  Please add Edge Width = None option - Zoom = F...  Accessibility Review   \n",
       "\n",
       "                                              cleanText Vader Sentiment  \n",
       "0     excellent app using years many different phone...        Positive  \n",
       "1     used different phone currently moto android re...        Positive  \n",
       "2     fantastic program instant search results fast ...        Positive  \n",
       "3     using mobile well view offline dictionaries us...        Positive  \n",
       "4                      text reflow work want money back        Positive  \n",
       "...                                                 ...             ...  \n",
       "3175  zoom galaxy makes really hard read need magnif...        Negative  \n",
       "3176  works advertised missing notable features comi...        Negative  \n",
       "3177                             alarm volume fade work        Negative  \n",
       "3178  latest update stopped rendering map zoom enoug...        Negative  \n",
       "3179  please add edge width none option zoom fit hei...        Negative  \n",
       "\n",
       "[3180 rows x 6 columns]"
      ]
     },
     "execution_count": 18,
     "metadata": {},
     "output_type": "execute_result"
    }
   ],
   "source": [
    "#Loading the updated dataset\n",
    "train_df = pd.read_csv(\"/content/drive/MyDrive/Colab Notebooks/cleaned_train.csv\")\n",
    "train_df"
   ]
  },
  {
   "cell_type": "markdown",
   "id": "62WmcnmlT6gT",
   "metadata": {
    "id": "62WmcnmlT6gT"
   },
   "source": [
    "# Visualizing the balanced data"
   ]
  },
  {
   "cell_type": "code",
   "execution_count": 21,
   "id": "NxP-iyCmT7jj",
   "metadata": {
    "colab": {
     "base_uri": "https://localhost:8080/",
     "height": 407
    },
    "id": "NxP-iyCmT7jj",
    "outputId": "7dd3a9b9-3041-4f0f-d1df-2ba289c7a543"
   },
   "outputs": [
    {
     "data": {
      "image/png": "[encoded data removed]",
      "text/plain": [
       "<Figure size 600x400 with 1 Axes>"
      ]
     },
     "metadata": {},
     "output_type": "display_data"
    }
   ],
   "source": [
    "plt.figure(figsize=(6, 4))\n",
    "sns.countplot(x='Vader Sentiment', data=train_df)\n",
    "plt.title('Positives vs. Negatives')\n",
    "plt.xlabel('Vader Sentiment')\n",
    "plt.ylabel('Count')\n",
    "plt.xticks(ticks=[0, 1])\n",
    "plt.tight_layout()\n",
    "plt.show()"
   ]
  },
  {
   "cell_type": "markdown",
   "id": "cf5b81f9-b440-4800-bd8e-007f1f03de05",
   "metadata": {
    "id": "cf5b81f9-b440-4800-bd8e-007f1f03de05"
   },
   "source": [
    "# Vader Lexicon"
   ]
  },
  {
   "cell_type": "code",
   "execution_count": 26,
   "id": "q4lyezf_UPjt",
   "metadata": {
    "colab": {
     "base_uri": "https://localhost:8080/"
    },
    "id": "q4lyezf_UPjt",
    "outputId": "0d5d03ea-e0bb-420d-c7ca-5fe047b2cbf6"
   },
   "outputs": [
    {
     "name": "stdout",
     "output_type": "stream",
     "text": [
      "['i', 'really', 'love', 'this', 'amazing', 'product']\n"
     ]
    }
   ],
   "source": [
    "import re\n",
    "\n",
    "def simple_tokenizer(text):\n",
    "    \"\"\"\n",
    "    Tokenizes a sentence by splitting on spaces and punctuation.\n",
    "    This is a fallback when nltk.word_tokenize() doesn't work.\n",
    "    \"\"\"\n",
    "    return re.findall(r'\\b\\w+\\b', text.lower())  # Extract words, ignore punctuation\n",
    "\n",
    "# Example\n",
    "text = \"I really love this amazing product!\"\n",
    "tokens = simple_tokenizer(text)\n",
    "print(tokens)\n"
   ]
  },
  {
   "cell_type": "code",
   "execution_count": 28,
   "id": "BlygOJr9b48o",
   "metadata": {
    "colab": {
     "base_uri": "https://localhost:8080/"
    },
    "id": "BlygOJr9b48o",
    "outputId": "01dd3ab0-ecf3-4b8d-cdea-e4d925a133bb"
   },
   "outputs": [
    {
     "name": "stdout",
     "output_type": "stream",
     "text": [
      "Maximum review length: 236\n"
     ]
    }
   ],
   "source": [
    "# This is to determine the maximum length of reviews\n",
    "train_df['review_length'] = train_df['cleanText'].apply(lambda x: len(simple_tokenizer(x)))\n",
    "max_length = train_df['review_length'].max()\n",
    "print(f\"Maximum review length: {max_length}\")"
   ]
  },
  {
   "cell_type": "code",
   "execution_count": 30,
   "id": "oI7ofZZvUVkQ",
   "metadata": {
    "colab": {
     "base_uri": "https://localhost:8080/"
    },
    "id": "oI7ofZZvUVkQ",
    "outputId": "93d6de37-0eee-493f-b8d1-5728b41b23cc"
   },
   "outputs": [
    {
     "name": "stdout",
     "output_type": "stream",
     "text": [
      "[0, 3.2, 0, 2.8, 0, 0, 0, 0, 0, 0, 0, 0, 0, 0, 0, 0, 0, 0, 0, 0, 0, 0, 0, 0, 0, 0, 0, 0, 0, 0, 0, 0, 0, 0, 0, 0, 0, 0, 0, 0, 0, 0, 0, 0, 0, 0, 0, 0, 0, 0, 0, 0, 0, 0, 0, 0, 0, 0, 0, 0, 0, 0, 0, 0, 0, 0, 0, 0, 0, 0, 0, 0, 0, 0, 0, 0, 0, 0, 0, 0, 0, 0, 0, 0, 0, 0, 0, 0, 0, 0, 0, 0, 0, 0, 0, 0, 0, 0, 0, 0, 0, 0, 0, 0, 0, 0, 0, 0, 0, 0, 0, 0, 0, 0, 0, 0, 0, 0, 0, 0, 0, 0, 0, 0, 0, 0, 0, 0, 0, 0, 0, 0, 0, 0, 0, 0, 0, 0, 0, 0, 0, 0, 0, 0, 0, 0, 0, 0, 0, 0, 0, 0, 0, 0, 0, 0, 0, 0, 0, 0, 0, 0, 0, 0, 0, 0, 0, 0, 0, 0, 0, 0, 0, 0, 0, 0, 0, 0, 0, 0, 0, 0, 0, 0, 0, 0, 0, 0, 0, 0, 0, 0, 0, 0, 0, 0, 0, 0, 0, 0, 0, 0, 0, 0, 0, 0, 0, 0, 0, 0, 0, 0, 0, 0, 0, 0, 0, 0, 0, 0, 0, 0, 0, 0, 0, 0, 0, 0, 0, 0, 0, 0, 0, 0, 0, 0]\n"
     ]
    },
    {
     "name": "stderr",
     "output_type": "stream",
     "text": [
      "[nltk_data] Downloading package vader_lexicon to C:\\Users\\RIHAB-\n",
      "[nltk_data]     PC/nltk_data...\n",
      "[nltk_data]   Package vader_lexicon is already up-to-date!\n"
     ]
    }
   ],
   "source": [
    "nltk.download('vader_lexicon')\n",
    "\n",
    "analyzer = SentimentIntensityAnalyzer()\n",
    "\n",
    "import re\n",
    "def simple_tokenizer(text):\n",
    "    return re.findall(r'\\b\\w+\\b', text.lower())\n",
    "\n",
    "# Turning sentences to vader number sequences\n",
    "def sentence_to_vader_sequence(sentence, max_length=max_length):\n",
    "    words = simple_tokenizer(sentence)\n",
    "    vaderLex = analyzer.lexicon\n",
    "    scores = [vaderLex.get(word.lower(), 0) for word in words]\n",
    "\n",
    "    # We're Padding with 0s to ensure fixed length\n",
    "    scores.extend([0] * (max_length - len(scores)))\n",
    "    return scores[:max_length]\n",
    "\n",
    "# Example\n",
    "print(sentence_to_vader_sequence(\"I love this amazing product!\"))\n"
   ]
  },
  {
   "cell_type": "code",
   "execution_count": 31,
   "id": "e9m45yoNUXx8",
   "metadata": {
    "colab": {
     "base_uri": "https://localhost:8080/"
    },
    "id": "e9m45yoNUXx8",
    "outputId": "d2a9132a-bca0-4f8b-9176-884da25d76a0"
   },
   "outputs": [
    {
     "name": "stdout",
     "output_type": "stream",
     "text": [
      "                                              cleanText  \\\n",
      "1027  recent update completely killed zooming issues...   \n",
      "1503  please add edge width none option zoom fit hei...   \n",
      "785   great start really looking forward future impr...   \n",
      "411   caused pain head seizures issues mess seizure ...   \n",
      "1103                        simple understandable clean   \n",
      "\n",
      "                                         vader_sequence  \n",
      "1027  [0, 0, 0, -3.5, 0, 0, 1.4, 1.9, 1.8, 0, 0, 0, ...  \n",
      "1503  [1.3, 0, 0, 0, 0, 0, 0, 1.5, 0, 0, -1.9, -1.4,...  \n",
      "785   [3.1, 0, 0, 0, 0, 0, 1.3, 1.3, 0, 0, 0, 1.8, 0...  \n",
      "411   [0, -2.3, 0, 0, 0, -1.5, 0, 2.3, 0, 0, 0, 0, -...  \n",
      "1103  [0, 0, 1.7, 0, 0, 0, 0, 0, 0, 0, 0, 0, 0, 0, 0...  \n"
     ]
    },
    {
     "name": "stderr",
     "output_type": "stream",
     "text": [
      "C:\\Users\\RIHAB-PC\\AppData\\Local\\Temp\\ipykernel_21184\\1372030119.py:7: FutureWarning: Downcasting behavior in `replace` is deprecated and will be removed in a future version. To retain the old behavior, explicitly call `result.infer_objects(copy=False)`. To opt-in to the future behavior, set `pd.set_option('future.no_silent_downcasting', True)`\n",
      "  train_df['Vader Sentiment'] = train_df['Vader Sentiment'].replace({'Positive': 1, 'Negative': 0}).astype(int)\n"
     ]
    }
   ],
   "source": [
    "# Calling teh previously defined function to turn reviews into Vader number sequence\n",
    "train_df['vader_sequence'] = train_df['cleanText'].apply(lambda x: sentence_to_vader_sequence(x))\n",
    "\n",
    "print(train_df[['cleanText', 'vader_sequence']].head())\n",
    "\n",
    "# Convert sentiment to binary (positive -> 1, negative -> 0)\n",
    "train_df['Vader Sentiment'] = train_df['Vader Sentiment'].replace({'Positive': 1, 'Negative': 0}).astype(int)\n",
    "\n",
    "# Save the new dataset with VADER features\n",
    "train_df.to_csv(\"/content/drive/MyDrive/Colab Notebooks/cleaned_train.csv\", index=False)\n"
   ]
  },
  {
   "cell_type": "code",
   "execution_count": 34,
   "id": "I2Pv-4riUcnu",
   "metadata": {
    "colab": {
     "base_uri": "https://localhost:8080/",
     "height": 736
    },
    "id": "I2Pv-4riUcnu",
    "outputId": "d5eeafa0-6e53-4570-db7b-a19995a71ab6"
   },
   "outputs": [
    {
     "data": {
      "text/html": [
       "<div>\n",
       "<style scoped>\n",
       "    .dataframe tbody tr th:only-of-type {\n",
       "        vertical-align: middle;\n",
       "    }\n",
       "\n",
       "    .dataframe tbody tr th {\n",
       "        vertical-align: top;\n",
       "    }\n",
       "\n",
       "    .dataframe thead th {\n",
       "        text-align: right;\n",
       "    }\n",
       "</style>\n",
       "<table border=\"1\" class=\"dataframe\">\n",
       "  <thead>\n",
       "    <tr style=\"text-align: right;\">\n",
       "      <th></th>\n",
       "      <th>desc_id</th>\n",
       "      <th>source_name</th>\n",
       "      <th>review_text</th>\n",
       "      <th>is_accessibility</th>\n",
       "      <th>cleanText</th>\n",
       "      <th>Vader Sentiment</th>\n",
       "      <th>review_length</th>\n",
       "      <th>vader_sequence</th>\n",
       "    </tr>\n",
       "  </thead>\n",
       "  <tbody>\n",
       "    <tr>\n",
       "      <th>1027</th>\n",
       "      <td>1</td>\n",
       "      <td>lg_AOqpTOFbI7eANjUPH5gx8FrO7lY-ewnoaBpkY3cb_c0...</td>\n",
       "      <td>The most recent update completely killed it w...</td>\n",
       "      <td>Accessibility Review</td>\n",
       "      <td>recent update completely killed zooming issues...</td>\n",
       "      <td>1</td>\n",
       "      <td>29</td>\n",
       "      <td>[0, 0, 0, -3.5, 0, 0, 1.4, 1.9, 1.8, 0, 0, 0, ...</td>\n",
       "    </tr>\n",
       "    <tr>\n",
       "      <th>1503</th>\n",
       "      <td>1</td>\n",
       "      <td>gp_AOqpTOEaJC0dt4Y5CKXZkxYG3e2mNXqiivAUDLfY6nP...</td>\n",
       "      <td>Please add Edge Width = None option - Zoom = F...</td>\n",
       "      <td>Accessibility Review</td>\n",
       "      <td>please add edge width none option zoom fit hei...</td>\n",
       "      <td>0</td>\n",
       "      <td>31</td>\n",
       "      <td>[1.3, 0, 0, 0, 0, 0, 0, 1.5, 0, 0, -1.9, -1.4,...</td>\n",
       "    </tr>\n",
       "    <tr>\n",
       "      <th>785</th>\n",
       "      <td>1</td>\n",
       "      <td>gp_AOqpTOFKwCeAxILja3_VtrZMcH_2Ni-2iGQzJhxC4m1...</td>\n",
       "      <td>This is a great start and I'm really looking f...</td>\n",
       "      <td>Accessibility Review</td>\n",
       "      <td>great start really looking forward future impr...</td>\n",
       "      <td>1</td>\n",
       "      <td>58</td>\n",
       "      <td>[3.1, 0, 0, 0, 0, 0, 1.3, 1.3, 0, 0, 0, 1.8, 0...</td>\n",
       "    </tr>\n",
       "    <tr>\n",
       "      <th>411</th>\n",
       "      <td>1</td>\n",
       "      <td>lg_AOqpTOEZ1YpFIWGESAYbClUkrAjqIvWjiuWU7SImAOl...</td>\n",
       "      <td>Caused pain in my head. I do have seizures iss...</td>\n",
       "      <td>Accessibility Review</td>\n",
       "      <td>caused pain head seizures issues mess seizure ...</td>\n",
       "      <td>0</td>\n",
       "      <td>17</td>\n",
       "      <td>[0, -2.3, 0, 0, 0, -1.5, 0, 2.3, 0, 0, 0, 0, -...</td>\n",
       "    </tr>\n",
       "    <tr>\n",
       "      <th>1103</th>\n",
       "      <td>1</td>\n",
       "      <td>gp_AOqpTOEq8l2y_jiFNSn89epNonK0-QEoKG91xAg68Dz...</td>\n",
       "      <td>Simple - understandable - and clean.</td>\n",
       "      <td>Accessibility Review</td>\n",
       "      <td>simple understandable clean</td>\n",
       "      <td>1</td>\n",
       "      <td>3</td>\n",
       "      <td>[0, 0, 1.7, 0, 0, 0, 0, 0, 0, 0, 0, 0, 0, 0, 0...</td>\n",
       "    </tr>\n",
       "    <tr>\n",
       "      <th>...</th>\n",
       "      <td>...</td>\n",
       "      <td>...</td>\n",
       "      <td>...</td>\n",
       "      <td>...</td>\n",
       "      <td>...</td>\n",
       "      <td>...</td>\n",
       "      <td>...</td>\n",
       "      <td>...</td>\n",
       "    </tr>\n",
       "    <tr>\n",
       "      <th>3034</th>\n",
       "      <td>1</td>\n",
       "      <td>lg_AOqpTOFJhAeNb2wYG4TwYc409rxZOmGRBtrUyF8yWqm...</td>\n",
       "      <td>The zoom gets stuck and the puzzle becomes to...</td>\n",
       "      <td>Accessibility Review</td>\n",
       "      <td>zoom gets stuck puzzle becomes small see</td>\n",
       "      <td>0</td>\n",
       "      <td>7</td>\n",
       "      <td>[0, 0, -1.0, 0, 0, 0, 0, 0, 0, 0, 0, 0, 0, 0, ...</td>\n",
       "    </tr>\n",
       "    <tr>\n",
       "      <th>44</th>\n",
       "      <td>1</td>\n",
       "      <td>gp_AOqpTOH7KBuBzFOua-5Ox0VsE3JzAtf9_fSHReUtKFB...</td>\n",
       "      <td>Ads in the way can't see whole documents. Sux</td>\n",
       "      <td>Accessibility Review</td>\n",
       "      <td>ads way see whole documents sux</td>\n",
       "      <td>0</td>\n",
       "      <td>6</td>\n",
       "      <td>[0, 0, 0, 0, 0, -1.5, 0, 0, 0, 0, 0, 0, 0, 0, ...</td>\n",
       "    </tr>\n",
       "    <tr>\n",
       "      <th>2746</th>\n",
       "      <td>1</td>\n",
       "      <td>lg_AOqpTOEi7YVHXMyq3jtQTA6H-hz0ObWS2Y6FVfWhTP4...</td>\n",
       "      <td>I've had this app for years on other phones b...</td>\n",
       "      <td>Accessibility Review</td>\n",
       "      <td>app years phones also zooming problem made alm...</td>\n",
       "      <td>0</td>\n",
       "      <td>12</td>\n",
       "      <td>[0, 0, 0, 0, 0, -1.7, 0, 0, 0, 0, 0, 0, 0, 0, ...</td>\n",
       "    </tr>\n",
       "    <tr>\n",
       "      <th>1867</th>\n",
       "      <td>1</td>\n",
       "      <td>gp_AOqpTOGSKVIIEmoxFWzxYjbNP8-k3UEUTvzflwc64u2...</td>\n",
       "      <td>Only missing a dark theme for the main view. ...</td>\n",
       "      <td>Accessibility Review</td>\n",
       "      <td>missing dark theme main view otherwise absolut...</td>\n",
       "      <td>0</td>\n",
       "      <td>11</td>\n",
       "      <td>[-1.2, 0, 0, 0, 0, 0, 0, 0, 0, 0, 0, 0, 0, 0, ...</td>\n",
       "    </tr>\n",
       "    <tr>\n",
       "      <th>3025</th>\n",
       "      <td>1</td>\n",
       "      <td>gp_AOqpTOHxtNmtGj78ISC1VGpR1Xrn3Io_K9NT8eP2_bN...</td>\n",
       "      <td>I hate how muzei leads to a zoomed in image s...</td>\n",
       "      <td>Accessibility Review</td>\n",
       "      <td>hate muzei leads zoomed image scrolled left ev...</td>\n",
       "      <td>0</td>\n",
       "      <td>20</td>\n",
       "      <td>[-2.7, 0, 0, 0, 0, 0, 0, 0, 0, 0, 0, 0, 0, 0, ...</td>\n",
       "    </tr>\n",
       "  </tbody>\n",
       "</table>\n",
       "<p>100 rows × 8 columns</p>\n",
       "</div>"
      ],
      "text/plain": [
       "      desc_id                                        source_name  \\\n",
       "1027        1  lg_AOqpTOFbI7eANjUPH5gx8FrO7lY-ewnoaBpkY3cb_c0...   \n",
       "1503        1  gp_AOqpTOEaJC0dt4Y5CKXZkxYG3e2mNXqiivAUDLfY6nP...   \n",
       "785         1  gp_AOqpTOFKwCeAxILja3_VtrZMcH_2Ni-2iGQzJhxC4m1...   \n",
       "411         1  lg_AOqpTOEZ1YpFIWGESAYbClUkrAjqIvWjiuWU7SImAOl...   \n",
       "1103        1  gp_AOqpTOEq8l2y_jiFNSn89epNonK0-QEoKG91xAg68Dz...   \n",
       "...       ...                                                ...   \n",
       "3034        1  lg_AOqpTOFJhAeNb2wYG4TwYc409rxZOmGRBtrUyF8yWqm...   \n",
       "44          1  gp_AOqpTOH7KBuBzFOua-5Ox0VsE3JzAtf9_fSHReUtKFB...   \n",
       "2746        1  lg_AOqpTOEi7YVHXMyq3jtQTA6H-hz0ObWS2Y6FVfWhTP4...   \n",
       "1867        1  gp_AOqpTOGSKVIIEmoxFWzxYjbNP8-k3UEUTvzflwc64u2...   \n",
       "3025        1  gp_AOqpTOHxtNmtGj78ISC1VGpR1Xrn3Io_K9NT8eP2_bN...   \n",
       "\n",
       "                                            review_text      is_accessibility  \\\n",
       "1027   The most recent update completely killed it w...  Accessibility Review   \n",
       "1503  Please add Edge Width = None option - Zoom = F...  Accessibility Review   \n",
       "785   This is a great start and I'm really looking f...  Accessibility Review   \n",
       "411   Caused pain in my head. I do have seizures iss...  Accessibility Review   \n",
       "1103               Simple - understandable - and clean.  Accessibility Review   \n",
       "...                                                 ...                   ...   \n",
       "3034   The zoom gets stuck and the puzzle becomes to...  Accessibility Review   \n",
       "44        Ads in the way can't see whole documents. Sux  Accessibility Review   \n",
       "2746   I've had this app for years on other phones b...  Accessibility Review   \n",
       "1867   Only missing a dark theme for the main view. ...  Accessibility Review   \n",
       "3025   I hate how muzei leads to a zoomed in image s...  Accessibility Review   \n",
       "\n",
       "                                              cleanText  Vader Sentiment  \\\n",
       "1027  recent update completely killed zooming issues...                1   \n",
       "1503  please add edge width none option zoom fit hei...                0   \n",
       "785   great start really looking forward future impr...                1   \n",
       "411   caused pain head seizures issues mess seizure ...                0   \n",
       "1103                        simple understandable clean                1   \n",
       "...                                                 ...              ...   \n",
       "3034           zoom gets stuck puzzle becomes small see                0   \n",
       "44                      ads way see whole documents sux                0   \n",
       "2746  app years phones also zooming problem made alm...                0   \n",
       "1867  missing dark theme main view otherwise absolut...                0   \n",
       "3025  hate muzei leads zoomed image scrolled left ev...                0   \n",
       "\n",
       "      review_length                                     vader_sequence  \n",
       "1027             29  [0, 0, 0, -3.5, 0, 0, 1.4, 1.9, 1.8, 0, 0, 0, ...  \n",
       "1503             31  [1.3, 0, 0, 0, 0, 0, 0, 1.5, 0, 0, -1.9, -1.4,...  \n",
       "785              58  [3.1, 0, 0, 0, 0, 0, 1.3, 1.3, 0, 0, 0, 1.8, 0...  \n",
       "411              17  [0, -2.3, 0, 0, 0, -1.5, 0, 2.3, 0, 0, 0, 0, -...  \n",
       "1103              3  [0, 0, 1.7, 0, 0, 0, 0, 0, 0, 0, 0, 0, 0, 0, 0...  \n",
       "...             ...                                                ...  \n",
       "3034              7  [0, 0, -1.0, 0, 0, 0, 0, 0, 0, 0, 0, 0, 0, 0, ...  \n",
       "44                6  [0, 0, 0, 0, 0, -1.5, 0, 0, 0, 0, 0, 0, 0, 0, ...  \n",
       "2746             12  [0, 0, 0, 0, 0, -1.7, 0, 0, 0, 0, 0, 0, 0, 0, ...  \n",
       "1867             11  [-1.2, 0, 0, 0, 0, 0, 0, 0, 0, 0, 0, 0, 0, 0, ...  \n",
       "3025             20  [-2.7, 0, 0, 0, 0, 0, 0, 0, 0, 0, 0, 0, 0, 0, ...  \n",
       "\n",
       "[100 rows x 8 columns]"
      ]
     },
     "execution_count": 34,
     "metadata": {},
     "output_type": "execute_result"
    }
   ],
   "source": [
    "train_df.head(100)"
   ]
  },
  {
   "cell_type": "code",
   "execution_count": 36,
   "id": "IeUWwpFJ95e4",
   "metadata": {
    "colab": {
     "base_uri": "https://localhost:8080/"
    },
    "id": "IeUWwpFJ95e4",
    "outputId": "6d852f3c-7d89-4bb4-fa08-08ef7d57e512"
   },
   "outputs": [
    {
     "name": "stdout",
     "output_type": "stream",
     "text": [
      "1027    1\n",
      "1503    0\n",
      "785     1\n",
      "411     0\n",
      "1103    1\n",
      "       ..\n",
      "1095    1\n",
      "1130    1\n",
      "1294    1\n",
      "860     1\n",
      "3174    0\n",
      "Name: Vader Sentiment, Length: 3180, dtype: int32\n"
     ]
    }
   ],
   "source": [
    "print(train_df['Vader Sentiment'])  # Should only show [0, 1]"
   ]
  },
  {
   "cell_type": "markdown",
   "id": "-fJDXTgTzpis",
   "metadata": {
    "id": "-fJDXTgTzpis"
   },
   "source": [
    "# Dropping unnecessary columns: 'desc_id', 'source_name', 'review_text', and 'is_accessibility', 'review_length'\n"
   ]
  },
  {
   "cell_type": "code",
   "execution_count": 39,
   "id": "vtBVGVRazuNK",
   "metadata": {
    "id": "vtBVGVRazuNK"
   },
   "outputs": [],
   "source": [
    "train_df.drop(columns=['desc_id', 'source_name', 'review_text', 'is_accessibility', 'review_length'], inplace=True)\n",
    "\n",
    "# Saving the cleaned dataset\n",
    "train_df.to_csv(\"/content/drive/MyDrive/Colab Notebooks/cleaned_train.csv\", index=False)\n",
    "\n",
    "# Load the new clean dataset\n",
    "train_df = pd.read_csv(\"/content/drive/MyDrive/Colab Notebooks/cleaned_train.csv\")"
   ]
  },
  {
   "cell_type": "code",
   "execution_count": 41,
   "id": "E0PTJYOMl1qr",
   "metadata": {
    "colab": {
     "base_uri": "https://localhost:8080/",
     "height": 206
    },
    "id": "E0PTJYOMl1qr",
    "outputId": "a9c94ff6-f86e-46d7-b20f-2d769600c671"
   },
   "outputs": [
    {
     "data": {
      "text/html": [
       "<div>\n",
       "<style scoped>\n",
       "    .dataframe tbody tr th:only-of-type {\n",
       "        vertical-align: middle;\n",
       "    }\n",
       "\n",
       "    .dataframe tbody tr th {\n",
       "        vertical-align: top;\n",
       "    }\n",
       "\n",
       "    .dataframe thead th {\n",
       "        text-align: right;\n",
       "    }\n",
       "</style>\n",
       "<table border=\"1\" class=\"dataframe\">\n",
       "  <thead>\n",
       "    <tr style=\"text-align: right;\">\n",
       "      <th></th>\n",
       "      <th>cleanText</th>\n",
       "      <th>Vader Sentiment</th>\n",
       "      <th>vader_sequence</th>\n",
       "    </tr>\n",
       "  </thead>\n",
       "  <tbody>\n",
       "    <tr>\n",
       "      <th>0</th>\n",
       "      <td>recent update completely killed zooming issues...</td>\n",
       "      <td>1</td>\n",
       "      <td>[0, 0, 0, -3.5, 0, 0, 1.4, 1.9, 1.8, 0, 0, 0, ...</td>\n",
       "    </tr>\n",
       "    <tr>\n",
       "      <th>1</th>\n",
       "      <td>please add edge width none option zoom fit hei...</td>\n",
       "      <td>0</td>\n",
       "      <td>[1.3, 0, 0, 0, 0, 0, 0, 1.5, 0, 0, -1.9, -1.4,...</td>\n",
       "    </tr>\n",
       "    <tr>\n",
       "      <th>2</th>\n",
       "      <td>great start really looking forward future impr...</td>\n",
       "      <td>1</td>\n",
       "      <td>[3.1, 0, 0, 0, 0, 0, 1.3, 1.3, 0, 0, 0, 1.8, 0...</td>\n",
       "    </tr>\n",
       "    <tr>\n",
       "      <th>3</th>\n",
       "      <td>caused pain head seizures issues mess seizure ...</td>\n",
       "      <td>0</td>\n",
       "      <td>[0, -2.3, 0, 0, 0, -1.5, 0, 2.3, 0, 0, 0, 0, -...</td>\n",
       "    </tr>\n",
       "    <tr>\n",
       "      <th>4</th>\n",
       "      <td>simple understandable clean</td>\n",
       "      <td>1</td>\n",
       "      <td>[0, 0, 1.7, 0, 0, 0, 0, 0, 0, 0, 0, 0, 0, 0, 0...</td>\n",
       "    </tr>\n",
       "  </tbody>\n",
       "</table>\n",
       "</div>"
      ],
      "text/plain": [
       "                                           cleanText  Vader Sentiment  \\\n",
       "0  recent update completely killed zooming issues...                1   \n",
       "1  please add edge width none option zoom fit hei...                0   \n",
       "2  great start really looking forward future impr...                1   \n",
       "3  caused pain head seizures issues mess seizure ...                0   \n",
       "4                        simple understandable clean                1   \n",
       "\n",
       "                                      vader_sequence  \n",
       "0  [0, 0, 0, -3.5, 0, 0, 1.4, 1.9, 1.8, 0, 0, 0, ...  \n",
       "1  [1.3, 0, 0, 0, 0, 0, 0, 1.5, 0, 0, -1.9, -1.4,...  \n",
       "2  [3.1, 0, 0, 0, 0, 0, 1.3, 1.3, 0, 0, 0, 1.8, 0...  \n",
       "3  [0, -2.3, 0, 0, 0, -1.5, 0, 2.3, 0, 0, 0, 0, -...  \n",
       "4  [0, 0, 1.7, 0, 0, 0, 0, 0, 0, 0, 0, 0, 0, 0, 0...  "
      ]
     },
     "execution_count": 41,
     "metadata": {},
     "output_type": "execute_result"
    }
   ],
   "source": [
    " train_df.head()"
   ]
  },
  {
   "cell_type": "markdown",
   "id": "cea7d3d8-a581-47e7-9fd3-9835f0e047b6",
   "metadata": {
    "id": "cea7d3d8-a581-47e7-9fd3-9835f0e047b6"
   },
   "source": [
    "# Metrics"
   ]
  },
  {
   "cell_type": "code",
   "execution_count": 44,
   "id": "6b89e992-b931-41da-9d39-a5cf8e7910d0",
   "metadata": {
    "id": "6b89e992-b931-41da-9d39-a5cf8e7910d0"
   },
   "outputs": [],
   "source": [
    "def compute_accuracy(y_true, y_pred):\n",
    "    y_pred_labels = (y_pred >= 0.5).astype(int)\n",
    "    return np.mean(y_true == y_pred_labels)"
   ]
  },
  {
   "cell_type": "code",
   "execution_count": 46,
   "id": "2c48b0c1-b9f7-4cd2-9d36-13647d9f7dd0",
   "metadata": {
    "id": "2c48b0c1-b9f7-4cd2-9d36-13647d9f7dd0"
   },
   "outputs": [],
   "source": [
    "def precision(y_true, y_pred):\n",
    "    tp = np.sum((y_true == 1) & (y_pred == 1))\n",
    "    fp = np.sum((y_true == 0) & (y_pred == 1))\n",
    "    return tp / (tp + fp) if (tp + fp) > 0 else 0.0"
   ]
  },
  {
   "cell_type": "code",
   "execution_count": 48,
   "id": "ac5a0c47-00fb-43ca-a9ff-47f3a65654a3",
   "metadata": {
    "id": "ac5a0c47-00fb-43ca-a9ff-47f3a65654a3"
   },
   "outputs": [],
   "source": [
    "def recall(y_true, y_pred):\n",
    "    tp = np.sum((y_true == 1) & (y_pred == 1))\n",
    "    fn = np.sum((y_true == 1) & (y_pred == 0))\n",
    "    return tp / (tp + fn) if (tp + fn) > 0 else 0.0"
   ]
  },
  {
   "cell_type": "code",
   "execution_count": 50,
   "id": "07566fe1-9c38-49c1-bbe4-12c5143d9d52",
   "metadata": {
    "id": "07566fe1-9c38-49c1-bbe4-12c5143d9d52"
   },
   "outputs": [],
   "source": [
    "def f1_score(precision, recall):\n",
    "    return 2 * precision * recall / (precision + recall) if (precision + recall) > 0 else 0.0"
   ]
  },
  {
   "cell_type": "markdown",
   "id": "cd0f301a-057e-46b0-8308-43fb5fbe8ffe",
   "metadata": {
    "id": "cd0f301a-057e-46b0-8308-43fb5fbe8ffe"
   },
   "source": [
    "# Linear regression & Gradient Descent"
   ]
  },
  {
   "cell_type": "code",
   "execution_count": 53,
   "id": "5AZIikdR-cxh",
   "metadata": {
    "id": "5AZIikdR-cxh"
   },
   "outputs": [],
   "source": [
    "# Loading updated dataset\n",
    "train_df = pd.read_csv(\"/content/drive/MyDrive/Colab Notebooks/cleaned_train.csv\")"
   ]
  },
  {
   "cell_type": "code",
   "execution_count": 55,
   "id": "aG1gSrQz-kow",
   "metadata": {
    "id": "aG1gSrQz-kow"
   },
   "outputs": [],
   "source": [
    "import ast\n",
    "\n",
    "if isinstance(train_df['vader_sequence'].iloc[0], str):\n",
    "    train_df['vader_sequence'] = train_df['vader_sequence'].apply(ast.literal_eval)\n",
    "\n",
    "# Extracting sequence_sequence feature into X\n",
    "# Converting from list of lists to NumPy array\n",
    "X = np.array(train_df['vader_sequence'].tolist(), dtype=float)\n",
    "\n",
    "# Ensuring correct shape\n",
    "if len(X.shape) == 1:\n",
    "    X = X.reshape(-1, len(X[0]))  # Reshaping from (samples,) to (samples, features) because we were getting errors on it"
   ]
  },
  {
   "cell_type": "code",
   "execution_count": 56,
   "id": "WwlGtK_U-ldK",
   "metadata": {
    "colab": {
     "base_uri": "https://localhost:8080/"
    },
    "id": "WwlGtK_U-ldK",
    "outputId": "3422ad59-6e22-41b2-c53f-531d1c22c556"
   },
   "outputs": [
    {
     "name": "stdout",
     "output_type": "stream",
     "text": [
      "X shape: (3180, 236)\n",
      "First few values of X: [[ 0.   0.   0.  ...  0.   0.   0. ]\n",
      " [ 1.3  0.   0.  ...  0.   0.   0. ]\n",
      " [ 3.1  0.   0.  ...  0.   0.   0. ]\n",
      " [ 0.  -2.3  0.  ...  0.   0.   0. ]\n",
      " [ 0.   0.   1.7 ...  0.   0.   0. ]]\n"
     ]
    }
   ],
   "source": [
    "print(\"X shape:\", X.shape)\n",
    "print(\"First few values of X:\", X[:5])"
   ]
  },
  {
   "cell_type": "code",
   "execution_count": 57,
   "id": "tlyEEhom-neR",
   "metadata": {
    "id": "tlyEEhom-neR"
   },
   "outputs": [],
   "source": [
    "# Extracting target labels into Y\n",
    "Y = train_df['Vader Sentiment'].values.reshape(-1, 1)"
   ]
  },
  {
   "cell_type": "code",
   "execution_count": 58,
   "id": "VqwFYgxN-pSx",
   "metadata": {
    "colab": {
     "base_uri": "https://localhost:8080/"
    },
    "id": "VqwFYgxN-pSx",
    "outputId": "7548906c-062f-4f09-bbdb-fe786fe2b173"
   },
   "outputs": [
    {
     "name": "stdout",
     "output_type": "stream",
     "text": [
      "Y shape: (3180, 1)\n",
      "First few values of Y: [[1]\n",
      " [0]\n",
      " [1]\n",
      " [0]\n",
      " [1]]\n"
     ]
    }
   ],
   "source": [
    "print(\"Y shape:\", Y.shape)\n",
    "print(\"First few values of Y:\", Y[:5])"
   ]
  },
  {
   "cell_type": "code",
   "execution_count": 63,
   "id": "VjLeZGz7-rHi",
   "metadata": {
    "id": "VjLeZGz7-rHi"
   },
   "outputs": [],
   "source": [
    "# Split into training and validation sets\n",
    "X_train, X_val, Y_train, Y_val = train_test_split(X, Y, test_size=0.2, random_state=42, stratify=Y)"
   ]
  },
  {
   "cell_type": "code",
   "execution_count": 65,
   "id": "1zOYdDxY-tt-",
   "metadata": {
    "id": "1zOYdDxY-tt-"
   },
   "outputs": [],
   "source": [
    "# Initializing weights and bias\n",
    "def initialize(dim):\n",
    "    w = np.zeros(shape=(dim, 1), dtype=float)  # Weight sequence (features x 1)\n",
    "    b = 0  # Bias\n",
    "    return w, b"
   ]
  },
  {
   "cell_type": "code",
   "execution_count": 67,
   "id": "qzuWLGyl-vuk",
   "metadata": {
    "id": "qzuWLGyl-vuk"
   },
   "outputs": [],
   "source": [
    "def sigmoid(z):\n",
    "    return 1 / (1 + np.exp(-z))"
   ]
  },
  {
   "cell_type": "code",
   "execution_count": 69,
   "id": "-jeR2-X9-xuM",
   "metadata": {
    "id": "-jeR2-X9-xuM"
   },
   "outputs": [],
   "source": [
    "def forward_propagation(X, w, b):\n",
    "    z = np.dot(X, w) + b\n",
    "    A = sigmoid(z)\n",
    "    return A"
   ]
  },
  {
   "cell_type": "code",
   "execution_count": 71,
   "id": "IzxJr3VC-zZ7",
   "metadata": {
    "id": "IzxJr3VC-zZ7"
   },
   "outputs": [],
   "source": [
    "# (Binary Cross-Entropy Loss)\n",
    "def compute_cost(Y, A, m):\n",
    "    epsilon = 1e-10\n",
    "    A = np.clip(A, epsilon, 1 - epsilon)  # Ensure A is never exactly 0 or 1\n",
    "    return -(1/m) * np.sum(Y * np.log(A) + (1 - Y) * np.log(1 - A))"
   ]
  },
  {
   "cell_type": "code",
   "execution_count": 73,
   "id": "WjfSwqmU-1QO",
   "metadata": {
    "id": "WjfSwqmU-1QO"
   },
   "outputs": [],
   "source": [
    "def compute_gradients(X, Y, A, m):\n",
    "    dz = A - Y\n",
    "    dw = (1/m) * np.dot(X.T, dz)\n",
    "    db = (1/m) * np.sum(dz)\n",
    "    return dw, db"
   ]
  },
  {
   "cell_type": "code",
   "execution_count": 75,
   "id": "A0CuLcgk-3GF",
   "metadata": {
    "id": "A0CuLcgk-3GF"
   },
   "outputs": [],
   "source": [
    "def compute_accuracy(Y, A):\n",
    "    predictions = (A >= 0.5).astype(int)  # Apply threshold (0.5)\n",
    "    return np.mean(predictions == Y) * 100  # Accuracy in %"
   ]
  },
  {
   "cell_type": "code",
   "execution_count": 77,
   "id": "0sG70RYK-5Kg",
   "metadata": {
    "id": "0sG70RYK-5Kg"
   },
   "outputs": [],
   "source": [
    "# Logistic regression training function\n",
    "def model(w, b, X_train, Y_train, X_val, Y_val, epochs, alpha):\n",
    "    cost_history_train = []\n",
    "    cost_history_val = []\n",
    "    accuracy_history_train = []\n",
    "    accuracy_history_val = []\n",
    "\n",
    "    m = X_train.shape[0]  # Ps: Number of training samples\n",
    "\n",
    "    for i in range(epochs):\n",
    "        # Forward propagation\n",
    "        A_train = forward_propagation(X_train, w, b)\n",
    "        cost_train = compute_cost(Y_train, A_train, m)\n",
    "        dw, db = compute_gradients(X_train, Y_train, A_train, m)\n",
    "\n",
    "        # Update weights\n",
    "        w -= alpha * dw\n",
    "        b -= alpha * db\n",
    "\n",
    "        # Store cost and accuracy\n",
    "        cost_history_train.append(cost_train)\n",
    "        accuracy_history_train.append(compute_accuracy(Y_train, A_train))\n",
    "\n",
    "        # Validate model\n",
    "        A_val = forward_propagation(X_val, w, b)\n",
    "        cost_val = compute_cost(Y_val, A_val, X_val.shape[0])\n",
    "        cost_history_val.append(cost_val)\n",
    "        accuracy_history_val.append(compute_accuracy(Y_val, A_val))\n",
    "\n",
    "        if i % 100 == 0:\n",
    "            print(f\"Epoch {i}: Train Cost = {cost_train:.4f}, Val Cost = {cost_val:.4f}, Train Acc = {accuracy_history_train[-1]:.2f}%, Val Acc = {accuracy_history_val[-1]:.2f}%\")\n",
    "\n",
    "    return w, b, cost_history_train, cost_history_val, accuracy_history_train, accuracy_history_val"
   ]
  },
  {
   "cell_type": "code",
   "execution_count": 79,
   "id": "u8-JJd2--8I5",
   "metadata": {
    "id": "u8-JJd2--8I5"
   },
   "outputs": [],
   "source": [
    "# Training logistic regression model\n",
    "dim = X_train.shape[1]  # Ps: Number of features\n",
    "w, b = initialize(dim)"
   ]
  },
  {
   "cell_type": "code",
   "execution_count": 81,
   "id": "sI2L5RTK--HN",
   "metadata": {
    "id": "sI2L5RTK--HN"
   },
   "outputs": [],
   "source": [
    "epochs = 4000\n",
    "alpha = 0.050"
   ]
  },
  {
   "cell_type": "code",
   "execution_count": 83,
   "id": "rBYpbRqK-_zj",
   "metadata": {
    "colab": {
     "base_uri": "https://localhost:8080/"
    },
    "id": "rBYpbRqK-_zj",
    "outputId": "fcf98492-fbb8-4404-afd8-3202ccb384b1"
   },
   "outputs": [
    {
     "name": "stdout",
     "output_type": "stream",
     "text": [
      "Epoch 0: Train Cost = 0.6931, Val Cost = 0.6852, Train Acc = 50.00%, Val Acc = 90.09%\n",
      "Epoch 100: Train Cost = 0.4242, Val Cost = 0.3972, Train Acc = 89.86%, Val Acc = 92.61%\n",
      "Epoch 200: Train Cost = 0.3472, Val Cost = 0.3172, Train Acc = 90.33%, Val Acc = 92.30%\n",
      "Epoch 300: Train Cost = 0.3065, Val Cost = 0.2761, Train Acc = 91.08%, Val Acc = 92.45%\n",
      "Epoch 400: Train Cost = 0.2804, Val Cost = 0.2505, Train Acc = 91.59%, Val Acc = 92.61%\n",
      "Epoch 500: Train Cost = 0.2618, Val Cost = 0.2328, Train Acc = 91.71%, Val Acc = 92.45%\n",
      "Epoch 600: Train Cost = 0.2476, Val Cost = 0.2198, Train Acc = 92.14%, Val Acc = 92.77%\n",
      "Epoch 700: Train Cost = 0.2363, Val Cost = 0.2097, Train Acc = 92.65%, Val Acc = 93.08%\n",
      "Epoch 800: Train Cost = 0.2270, Val Cost = 0.2016, Train Acc = 92.85%, Val Acc = 93.08%\n",
      "Epoch 900: Train Cost = 0.2193, Val Cost = 0.1949, Train Acc = 93.12%, Val Acc = 93.55%\n",
      "Epoch 1000: Train Cost = 0.2127, Val Cost = 0.1893, Train Acc = 93.12%, Val Acc = 93.71%\n",
      "Epoch 1100: Train Cost = 0.2069, Val Cost = 0.1846, Train Acc = 93.16%, Val Acc = 93.87%\n",
      "Epoch 1200: Train Cost = 0.2019, Val Cost = 0.1805, Train Acc = 93.44%, Val Acc = 94.18%\n",
      "Epoch 1300: Train Cost = 0.1974, Val Cost = 0.1769, Train Acc = 93.47%, Val Acc = 94.18%\n",
      "Epoch 1400: Train Cost = 0.1935, Val Cost = 0.1737, Train Acc = 93.47%, Val Acc = 94.03%\n",
      "Epoch 1500: Train Cost = 0.1899, Val Cost = 0.1708, Train Acc = 93.47%, Val Acc = 94.03%\n",
      "Epoch 1600: Train Cost = 0.1867, Val Cost = 0.1683, Train Acc = 93.83%, Val Acc = 94.34%\n",
      "Epoch 1700: Train Cost = 0.1837, Val Cost = 0.1660, Train Acc = 93.91%, Val Acc = 94.50%\n",
      "Epoch 1800: Train Cost = 0.1810, Val Cost = 0.1639, Train Acc = 93.99%, Val Acc = 94.50%\n",
      "Epoch 1900: Train Cost = 0.1785, Val Cost = 0.1620, Train Acc = 93.99%, Val Acc = 94.50%\n",
      "Epoch 2000: Train Cost = 0.1763, Val Cost = 0.1603, Train Acc = 94.26%, Val Acc = 94.65%\n",
      "Epoch 2100: Train Cost = 0.1741, Val Cost = 0.1587, Train Acc = 94.26%, Val Acc = 94.65%\n",
      "Epoch 2200: Train Cost = 0.1722, Val Cost = 0.1572, Train Acc = 94.26%, Val Acc = 94.65%\n",
      "Epoch 2300: Train Cost = 0.1703, Val Cost = 0.1558, Train Acc = 94.26%, Val Acc = 94.65%\n",
      "Epoch 2400: Train Cost = 0.1686, Val Cost = 0.1545, Train Acc = 94.26%, Val Acc = 94.65%\n",
      "Epoch 2500: Train Cost = 0.1670, Val Cost = 0.1533, Train Acc = 94.30%, Val Acc = 94.65%\n",
      "Epoch 2600: Train Cost = 0.1655, Val Cost = 0.1521, Train Acc = 94.26%, Val Acc = 94.50%\n",
      "Epoch 2700: Train Cost = 0.1641, Val Cost = 0.1511, Train Acc = 94.30%, Val Acc = 94.50%\n",
      "Epoch 2800: Train Cost = 0.1627, Val Cost = 0.1501, Train Acc = 94.30%, Val Acc = 94.50%\n",
      "Epoch 2900: Train Cost = 0.1615, Val Cost = 0.1491, Train Acc = 94.30%, Val Acc = 94.50%\n",
      "Epoch 3000: Train Cost = 0.1603, Val Cost = 0.1482, Train Acc = 94.34%, Val Acc = 94.50%\n",
      "Epoch 3100: Train Cost = 0.1591, Val Cost = 0.1474, Train Acc = 94.34%, Val Acc = 94.50%\n",
      "Epoch 3200: Train Cost = 0.1580, Val Cost = 0.1466, Train Acc = 94.38%, Val Acc = 94.65%\n",
      "Epoch 3300: Train Cost = 0.1570, Val Cost = 0.1458, Train Acc = 94.42%, Val Acc = 94.65%\n",
      "Epoch 3400: Train Cost = 0.1560, Val Cost = 0.1451, Train Acc = 94.42%, Val Acc = 94.65%\n",
      "Epoch 3500: Train Cost = 0.1551, Val Cost = 0.1444, Train Acc = 94.54%, Val Acc = 94.65%\n",
      "Epoch 3600: Train Cost = 0.1542, Val Cost = 0.1437, Train Acc = 94.54%, Val Acc = 94.65%\n",
      "Epoch 3700: Train Cost = 0.1533, Val Cost = 0.1430, Train Acc = 94.58%, Val Acc = 94.65%\n",
      "Epoch 3800: Train Cost = 0.1525, Val Cost = 0.1424, Train Acc = 94.58%, Val Acc = 94.65%\n",
      "Epoch 3900: Train Cost = 0.1517, Val Cost = 0.1418, Train Acc = 94.58%, Val Acc = 94.65%\n"
     ]
    }
   ],
   "source": [
    "w, b, cost_history_train, cost_history_val, accuracy_history_train, accuracy_history_val = model(w, b, X_train, Y_train, X_val, Y_val, epochs, alpha)"
   ]
  },
  {
   "cell_type": "code",
   "execution_count": 84,
   "id": "U9LfEXl__EE6",
   "metadata": {
    "colab": {
     "base_uri": "https://localhost:8080/",
     "height": 507
    },
    "id": "U9LfEXl__EE6",
    "outputId": "e0c78bb1-69ad-4d87-96eb-a6a75885721e"
   },
   "outputs": [
    {
     "data": {
      "image/png": "[encoded data removed]",
      "text/plain": [
       "<Figure size 1200x500 with 2 Axes>"
      ]
     },
     "metadata": {},
     "output_type": "display_data"
    }
   ],
   "source": [
    "plt.figure(figsize=(12, 5))\n",
    "\n",
    "# Cost\n",
    "plt.subplot(1, 2, 1)\n",
    "plt.plot(range(len(cost_history_train)), cost_history_train, label='Train Cost', color='blue')\n",
    "plt.plot(range(len(cost_history_val)), cost_history_val, label='Val Cost', color='orange')\n",
    "plt.xlabel('Epochs')\n",
    "plt.ylabel('Cost')\n",
    "plt.title('Cost vs Epochs')\n",
    "plt.legend()\n",
    "\n",
    "# Accuracy\n",
    "plt.subplot(1, 2, 2)\n",
    "plt.plot(range(len(accuracy_history_train)), accuracy_history_train, label='Train Accuracy', color='blue')\n",
    "plt.plot(range(len(accuracy_history_val)), accuracy_history_val, label='Val Accuracy', color='orange')\n",
    "plt.xlabel('Epochs')\n",
    "plt.ylabel('Accuracy (%)')\n",
    "plt.title('Accuracy vs Epochs')\n",
    "plt.legend()\n",
    "\n",
    "plt.tight_layout()\n",
    "plt.show()"
   ]
  },
  {
   "cell_type": "code",
   "execution_count": 87,
   "id": "jWh8yz4iumv7",
   "metadata": {
    "colab": {
     "base_uri": "https://localhost:8080/",
     "height": 1000
    },
    "id": "jWh8yz4iumv7",
    "outputId": "0e6fc9ab-8409-4ae2-c3fe-6366e19580b7"
   },
   "outputs": [
    {
     "name": "stdout",
     "output_type": "stream",
     "text": [
      "Epoch 0: Train Cost = 0.6931, Val Cost = 0.5949, Train Acc = 50.00%, Val Acc = 90.09%\n",
      "Epoch 100: Train Cost = 0.1930, Val Cost = 0.1729, Train Acc = 93.47%, Val Acc = 94.03%\n",
      "Epoch 200: Train Cost = 0.1625, Val Cost = 0.1498, Train Acc = 94.30%, Val Acc = 94.50%\n",
      "Epoch 300: Train Cost = 0.1494, Val Cost = 0.1401, Train Acc = 94.77%, Val Acc = 94.65%\n",
      "Epoch 400: Train Cost = 0.1416, Val Cost = 0.1344, Train Acc = 94.93%, Val Acc = 94.81%\n",
      "Epoch 500: Train Cost = 0.1365, Val Cost = 0.1306, Train Acc = 95.01%, Val Acc = 94.97%\n",
      "Epoch 600: Train Cost = 0.1327, Val Cost = 0.1278, Train Acc = 95.09%, Val Acc = 95.28%\n",
      "Epoch 700: Train Cost = 0.1298, Val Cost = 0.1258, Train Acc = 95.09%, Val Acc = 95.44%\n",
      "Epoch 800: Train Cost = 0.1275, Val Cost = 0.1241, Train Acc = 95.24%, Val Acc = 95.75%\n",
      "Epoch 900: Train Cost = 0.1256, Val Cost = 0.1228, Train Acc = 95.36%, Val Acc = 95.75%\n",
      "Epoch 1000: Train Cost = 0.1240, Val Cost = 0.1217, Train Acc = 95.40%, Val Acc = 95.75%\n",
      "Epoch 1100: Train Cost = 0.1227, Val Cost = 0.1208, Train Acc = 95.40%, Val Acc = 95.75%\n",
      "Epoch 1200: Train Cost = 0.1215, Val Cost = 0.1200, Train Acc = 95.44%, Val Acc = 95.75%\n",
      "Epoch 1300: Train Cost = 0.1205, Val Cost = 0.1193, Train Acc = 95.44%, Val Acc = 95.75%\n",
      "Epoch 1400: Train Cost = 0.1197, Val Cost = 0.1187, Train Acc = 95.44%, Val Acc = 95.75%\n",
      "Epoch 1500: Train Cost = 0.1189, Val Cost = 0.1181, Train Acc = 95.48%, Val Acc = 95.91%\n",
      "Epoch 1600: Train Cost = 0.1182, Val Cost = 0.1176, Train Acc = 95.56%, Val Acc = 95.91%\n",
      "Epoch 1700: Train Cost = 0.1176, Val Cost = 0.1172, Train Acc = 95.56%, Val Acc = 95.91%\n",
      "Epoch 1800: Train Cost = 0.1171, Val Cost = 0.1168, Train Acc = 95.56%, Val Acc = 95.75%\n",
      "Epoch 1900: Train Cost = 0.1166, Val Cost = 0.1164, Train Acc = 95.60%, Val Acc = 95.75%\n",
      "Epoch 2000: Train Cost = 0.1161, Val Cost = 0.1160, Train Acc = 95.60%, Val Acc = 95.75%\n",
      "Epoch 2100: Train Cost = 0.1157, Val Cost = 0.1157, Train Acc = 95.64%, Val Acc = 95.75%\n",
      "Epoch 2200: Train Cost = 0.1153, Val Cost = 0.1154, Train Acc = 95.64%, Val Acc = 95.75%\n",
      "Epoch 2300: Train Cost = 0.1149, Val Cost = 0.1151, Train Acc = 95.52%, Val Acc = 95.75%\n",
      "Epoch 2400: Train Cost = 0.1146, Val Cost = 0.1148, Train Acc = 95.52%, Val Acc = 95.91%\n",
      "Epoch 2500: Train Cost = 0.1143, Val Cost = 0.1145, Train Acc = 95.52%, Val Acc = 95.91%\n",
      "Epoch 2600: Train Cost = 0.1140, Val Cost = 0.1142, Train Acc = 95.60%, Val Acc = 95.91%\n",
      "Epoch 2700: Train Cost = 0.1138, Val Cost = 0.1140, Train Acc = 95.64%, Val Acc = 95.91%\n",
      "Epoch 2800: Train Cost = 0.1135, Val Cost = 0.1138, Train Acc = 95.64%, Val Acc = 95.91%\n",
      "Epoch 2900: Train Cost = 0.1133, Val Cost = 0.1135, Train Acc = 95.64%, Val Acc = 95.91%\n",
      "Epoch 3000: Train Cost = 0.1131, Val Cost = 0.1133, Train Acc = 95.68%, Val Acc = 95.91%\n",
      "Epoch 3100: Train Cost = 0.1129, Val Cost = 0.1131, Train Acc = 95.68%, Val Acc = 95.91%\n",
      "Epoch 3200: Train Cost = 0.1127, Val Cost = 0.1129, Train Acc = 95.68%, Val Acc = 95.91%\n",
      "Epoch 3300: Train Cost = 0.1125, Val Cost = 0.1127, Train Acc = 95.68%, Val Acc = 95.91%\n",
      "Epoch 3400: Train Cost = 0.1123, Val Cost = 0.1125, Train Acc = 95.68%, Val Acc = 95.91%\n",
      "Epoch 3500: Train Cost = 0.1122, Val Cost = 0.1123, Train Acc = 95.68%, Val Acc = 95.91%\n",
      "Epoch 3600: Train Cost = 0.1120, Val Cost = 0.1122, Train Acc = 95.64%, Val Acc = 95.91%\n",
      "Epoch 3700: Train Cost = 0.1119, Val Cost = 0.1120, Train Acc = 95.72%, Val Acc = 95.91%\n",
      "Epoch 3800: Train Cost = 0.1117, Val Cost = 0.1118, Train Acc = 95.72%, Val Acc = 95.91%\n",
      "Epoch 3900: Train Cost = 0.1116, Val Cost = 0.1117, Train Acc = 95.72%, Val Acc = 95.91%\n",
      "Epoch 4000: Train Cost = 0.1115, Val Cost = 0.1115, Train Acc = 95.72%, Val Acc = 95.91%\n",
      "Epoch 4100: Train Cost = 0.1113, Val Cost = 0.1114, Train Acc = 95.72%, Val Acc = 95.91%\n",
      "Epoch 4200: Train Cost = 0.1112, Val Cost = 0.1112, Train Acc = 95.72%, Val Acc = 95.91%\n",
      "Epoch 4300: Train Cost = 0.1111, Val Cost = 0.1111, Train Acc = 95.72%, Val Acc = 95.91%\n",
      "Epoch 4400: Train Cost = 0.1110, Val Cost = 0.1109, Train Acc = 95.72%, Val Acc = 95.91%\n",
      "Epoch 4500: Train Cost = 0.1109, Val Cost = 0.1108, Train Acc = 95.72%, Val Acc = 95.91%\n",
      "Epoch 4600: Train Cost = 0.1108, Val Cost = 0.1107, Train Acc = 95.72%, Val Acc = 95.91%\n",
      "Epoch 4700: Train Cost = 0.1107, Val Cost = 0.1105, Train Acc = 95.72%, Val Acc = 95.91%\n",
      "Epoch 4800: Train Cost = 0.1106, Val Cost = 0.1104, Train Acc = 95.72%, Val Acc = 95.91%\n",
      "Epoch 4900: Train Cost = 0.1105, Val Cost = 0.1103, Train Acc = 95.68%, Val Acc = 95.91%\n",
      "Epoch 5000: Train Cost = 0.1104, Val Cost = 0.1102, Train Acc = 95.68%, Val Acc = 96.07%\n",
      "Epoch 5100: Train Cost = 0.1104, Val Cost = 0.1101, Train Acc = 95.68%, Val Acc = 96.07%\n",
      "Epoch 5200: Train Cost = 0.1103, Val Cost = 0.1100, Train Acc = 95.68%, Val Acc = 96.07%\n",
      "Epoch 5300: Train Cost = 0.1102, Val Cost = 0.1099, Train Acc = 95.68%, Val Acc = 96.07%\n",
      "Epoch 5400: Train Cost = 0.1101, Val Cost = 0.1098, Train Acc = 95.68%, Val Acc = 96.07%\n",
      "Epoch 5500: Train Cost = 0.1100, Val Cost = 0.1097, Train Acc = 95.68%, Val Acc = 96.07%\n",
      "Epoch 5600: Train Cost = 0.1100, Val Cost = 0.1096, Train Acc = 95.68%, Val Acc = 96.07%\n",
      "Epoch 5700: Train Cost = 0.1099, Val Cost = 0.1095, Train Acc = 95.68%, Val Acc = 96.07%\n",
      "Epoch 5800: Train Cost = 0.1098, Val Cost = 0.1094, Train Acc = 95.68%, Val Acc = 96.07%\n",
      "Epoch 5900: Train Cost = 0.1098, Val Cost = 0.1093, Train Acc = 95.68%, Val Acc = 96.07%\n",
      "Epoch 6000: Train Cost = 0.1097, Val Cost = 0.1092, Train Acc = 95.68%, Val Acc = 96.07%\n",
      "Epoch 6100: Train Cost = 0.1097, Val Cost = 0.1091, Train Acc = 95.68%, Val Acc = 96.07%\n",
      "Epoch 6200: Train Cost = 0.1096, Val Cost = 0.1090, Train Acc = 95.68%, Val Acc = 96.07%\n",
      "Epoch 6300: Train Cost = 0.1095, Val Cost = 0.1089, Train Acc = 95.68%, Val Acc = 96.07%\n",
      "Epoch 6400: Train Cost = 0.1095, Val Cost = 0.1089, Train Acc = 95.68%, Val Acc = 96.07%\n",
      "Epoch 6500: Train Cost = 0.1094, Val Cost = 0.1088, Train Acc = 95.68%, Val Acc = 96.07%\n",
      "Epoch 6600: Train Cost = 0.1094, Val Cost = 0.1087, Train Acc = 95.68%, Val Acc = 96.07%\n",
      "Epoch 6700: Train Cost = 0.1093, Val Cost = 0.1086, Train Acc = 95.68%, Val Acc = 96.07%\n",
      "Epoch 6800: Train Cost = 0.1093, Val Cost = 0.1086, Train Acc = 95.68%, Val Acc = 96.07%\n",
      "Epoch 6900: Train Cost = 0.1092, Val Cost = 0.1085, Train Acc = 95.68%, Val Acc = 96.07%\n",
      "Epoch 7000: Train Cost = 0.1092, Val Cost = 0.1084, Train Acc = 95.68%, Val Acc = 96.07%\n",
      "Epoch 7100: Train Cost = 0.1091, Val Cost = 0.1083, Train Acc = 95.68%, Val Acc = 96.07%\n",
      "Epoch 7200: Train Cost = 0.1091, Val Cost = 0.1083, Train Acc = 95.68%, Val Acc = 96.07%\n",
      "Epoch 7300: Train Cost = 0.1090, Val Cost = 0.1082, Train Acc = 95.68%, Val Acc = 96.07%\n",
      "Epoch 7400: Train Cost = 0.1090, Val Cost = 0.1081, Train Acc = 95.68%, Val Acc = 96.07%\n",
      "Epoch 7500: Train Cost = 0.1090, Val Cost = 0.1081, Train Acc = 95.68%, Val Acc = 96.07%\n",
      "Epoch 7600: Train Cost = 0.1089, Val Cost = 0.1080, Train Acc = 95.68%, Val Acc = 96.07%\n",
      "Epoch 7700: Train Cost = 0.1089, Val Cost = 0.1080, Train Acc = 95.68%, Val Acc = 96.07%\n",
      "Epoch 7800: Train Cost = 0.1088, Val Cost = 0.1079, Train Acc = 95.68%, Val Acc = 96.23%\n",
      "Epoch 7900: Train Cost = 0.1088, Val Cost = 0.1078, Train Acc = 95.68%, Val Acc = 96.23%\n",
      "Epoch 8000: Train Cost = 0.1088, Val Cost = 0.1078, Train Acc = 95.68%, Val Acc = 96.23%\n",
      "Epoch 8100: Train Cost = 0.1087, Val Cost = 0.1077, Train Acc = 95.68%, Val Acc = 96.23%\n",
      "Epoch 8200: Train Cost = 0.1087, Val Cost = 0.1077, Train Acc = 95.68%, Val Acc = 96.23%\n",
      "Epoch 8300: Train Cost = 0.1087, Val Cost = 0.1076, Train Acc = 95.68%, Val Acc = 96.23%\n",
      "Epoch 8400: Train Cost = 0.1086, Val Cost = 0.1076, Train Acc = 95.68%, Val Acc = 96.23%\n",
      "Epoch 8500: Train Cost = 0.1086, Val Cost = 0.1075, Train Acc = 95.68%, Val Acc = 96.23%\n",
      "Epoch 8600: Train Cost = 0.1085, Val Cost = 0.1075, Train Acc = 95.68%, Val Acc = 96.23%\n",
      "Epoch 8700: Train Cost = 0.1085, Val Cost = 0.1074, Train Acc = 95.68%, Val Acc = 96.23%\n",
      "Epoch 8800: Train Cost = 0.1085, Val Cost = 0.1074, Train Acc = 95.68%, Val Acc = 96.23%\n",
      "Epoch 8900: Train Cost = 0.1084, Val Cost = 0.1073, Train Acc = 95.68%, Val Acc = 96.07%\n",
      "Epoch 9000: Train Cost = 0.1084, Val Cost = 0.1073, Train Acc = 95.68%, Val Acc = 96.07%\n",
      "Epoch 9100: Train Cost = 0.1084, Val Cost = 0.1072, Train Acc = 95.68%, Val Acc = 96.07%\n",
      "Epoch 9200: Train Cost = 0.1084, Val Cost = 0.1072, Train Acc = 95.68%, Val Acc = 96.07%\n",
      "Epoch 9300: Train Cost = 0.1083, Val Cost = 0.1071, Train Acc = 95.68%, Val Acc = 96.07%\n",
      "Epoch 9400: Train Cost = 0.1083, Val Cost = 0.1071, Train Acc = 95.68%, Val Acc = 96.07%\n",
      "Epoch 9500: Train Cost = 0.1083, Val Cost = 0.1070, Train Acc = 95.68%, Val Acc = 96.07%\n",
      "Epoch 9600: Train Cost = 0.1082, Val Cost = 0.1070, Train Acc = 95.68%, Val Acc = 96.07%\n",
      "Epoch 9700: Train Cost = 0.1082, Val Cost = 0.1069, Train Acc = 95.68%, Val Acc = 96.07%\n",
      "Epoch 9800: Train Cost = 0.1082, Val Cost = 0.1069, Train Acc = 95.68%, Val Acc = 96.07%\n",
      "Epoch 9900: Train Cost = 0.1082, Val Cost = 0.1069, Train Acc = 95.68%, Val Acc = 96.07%\n"
     ]
    },
    {
     "data": {
      "image/png": "[encoded data removed]",
      "text/plain": [
       "<Figure size 1200x500 with 2 Axes>"
      ]
     },
     "metadata": {},
     "output_type": "display_data"
    }
   ],
   "source": [
    "del w, b  # Delete previous weights and bias\n",
    "w, b = initialize(X_train.shape[1])  # Reinitialize them\n",
    "# Because otherwise it was just taking over where it left\n",
    "\n",
    "epochs = 10000\n",
    "alpha = 0.7\n",
    "\n",
    "w2, b2, cost_history_train, cost_history_val, accuracy_history_train, accuracy_history_val = model(w, b, X_train, Y_train, X_val, Y_val, epochs, alpha)\n",
    "\n",
    "plt.figure(figsize=(12, 5))\n",
    "# Cost\n",
    "plt.subplot(1, 2, 1)\n",
    "plt.plot(range(len(cost_history_train)), cost_history_train, label='Train Cost', color='blue')\n",
    "plt.plot(range(len(cost_history_val)), cost_history_val, label='Val Cost', color='orange')\n",
    "plt.xlabel('Epochs')\n",
    "plt.ylabel('Cost')\n",
    "plt.title('Cost vs Epochs')\n",
    "plt.legend()\n",
    "# Accuracy\n",
    "plt.subplot(1, 2, 2)\n",
    "plt.plot(range(len(accuracy_history_train)), accuracy_history_train, label='Train Accuracy', color='blue')\n",
    "plt.plot(range(len(accuracy_history_val)), accuracy_history_val, label='Val Accuracy', color='orange')\n",
    "plt.xlabel('Epochs')\n",
    "plt.ylabel('Accuracy (%)')\n",
    "plt.title('Accuracy vs Epochs')\n",
    "plt.legend()\n",
    "\n",
    "plt.tight_layout()\n",
    "plt.show()"
   ]
  },
  {
   "cell_type": "code",
   "execution_count": 88,
   "id": "YiqIwK7L36Xk",
   "metadata": {
    "colab": {
     "base_uri": "https://localhost:8080/",
     "height": 1000
    },
    "id": "YiqIwK7L36Xk",
    "outputId": "b0fd26d1-9ea4-4574-d0c7-024907692e92"
   },
   "outputs": [
    {
     "name": "stdout",
     "output_type": "stream",
     "text": [
      "Epoch 0: Train Cost = 0.6931, Val Cost = 0.5949, Train Acc = 50.00%, Val Acc = 90.09%\n",
      "Epoch 100: Train Cost = 0.1930, Val Cost = 0.1729, Train Acc = 93.47%, Val Acc = 94.03%\n",
      "Epoch 200: Train Cost = 0.1625, Val Cost = 0.1498, Train Acc = 94.30%, Val Acc = 94.50%\n",
      "Epoch 300: Train Cost = 0.1494, Val Cost = 0.1401, Train Acc = 94.77%, Val Acc = 94.65%\n",
      "Epoch 400: Train Cost = 0.1416, Val Cost = 0.1344, Train Acc = 94.93%, Val Acc = 94.81%\n",
      "Epoch 500: Train Cost = 0.1365, Val Cost = 0.1306, Train Acc = 95.01%, Val Acc = 94.97%\n",
      "Epoch 600: Train Cost = 0.1327, Val Cost = 0.1278, Train Acc = 95.09%, Val Acc = 95.28%\n",
      "Epoch 700: Train Cost = 0.1298, Val Cost = 0.1258, Train Acc = 95.09%, Val Acc = 95.44%\n",
      "Epoch 800: Train Cost = 0.1275, Val Cost = 0.1241, Train Acc = 95.24%, Val Acc = 95.75%\n",
      "Epoch 900: Train Cost = 0.1256, Val Cost = 0.1228, Train Acc = 95.36%, Val Acc = 95.75%\n",
      "Epoch 1000: Train Cost = 0.1240, Val Cost = 0.1217, Train Acc = 95.40%, Val Acc = 95.75%\n",
      "Epoch 1100: Train Cost = 0.1227, Val Cost = 0.1208, Train Acc = 95.40%, Val Acc = 95.75%\n",
      "Epoch 1200: Train Cost = 0.1215, Val Cost = 0.1200, Train Acc = 95.44%, Val Acc = 95.75%\n",
      "Epoch 1300: Train Cost = 0.1205, Val Cost = 0.1193, Train Acc = 95.44%, Val Acc = 95.75%\n",
      "Epoch 1400: Train Cost = 0.1197, Val Cost = 0.1187, Train Acc = 95.44%, Val Acc = 95.75%\n",
      "Epoch 1500: Train Cost = 0.1189, Val Cost = 0.1181, Train Acc = 95.48%, Val Acc = 95.91%\n",
      "Epoch 1600: Train Cost = 0.1182, Val Cost = 0.1176, Train Acc = 95.56%, Val Acc = 95.91%\n",
      "Epoch 1700: Train Cost = 0.1176, Val Cost = 0.1172, Train Acc = 95.56%, Val Acc = 95.91%\n",
      "Epoch 1800: Train Cost = 0.1171, Val Cost = 0.1168, Train Acc = 95.56%, Val Acc = 95.75%\n",
      "Epoch 1900: Train Cost = 0.1166, Val Cost = 0.1164, Train Acc = 95.60%, Val Acc = 95.75%\n",
      "Epoch 2000: Train Cost = 0.1161, Val Cost = 0.1160, Train Acc = 95.60%, Val Acc = 95.75%\n",
      "Epoch 2100: Train Cost = 0.1157, Val Cost = 0.1157, Train Acc = 95.64%, Val Acc = 95.75%\n",
      "Epoch 2200: Train Cost = 0.1153, Val Cost = 0.1154, Train Acc = 95.64%, Val Acc = 95.75%\n",
      "Epoch 2300: Train Cost = 0.1149, Val Cost = 0.1151, Train Acc = 95.52%, Val Acc = 95.75%\n",
      "Epoch 2400: Train Cost = 0.1146, Val Cost = 0.1148, Train Acc = 95.52%, Val Acc = 95.91%\n",
      "Epoch 2500: Train Cost = 0.1143, Val Cost = 0.1145, Train Acc = 95.52%, Val Acc = 95.91%\n",
      "Epoch 2600: Train Cost = 0.1140, Val Cost = 0.1142, Train Acc = 95.60%, Val Acc = 95.91%\n",
      "Epoch 2700: Train Cost = 0.1138, Val Cost = 0.1140, Train Acc = 95.64%, Val Acc = 95.91%\n",
      "Epoch 2800: Train Cost = 0.1135, Val Cost = 0.1138, Train Acc = 95.64%, Val Acc = 95.91%\n",
      "Epoch 2900: Train Cost = 0.1133, Val Cost = 0.1135, Train Acc = 95.64%, Val Acc = 95.91%\n",
      "Epoch 3000: Train Cost = 0.1131, Val Cost = 0.1133, Train Acc = 95.68%, Val Acc = 95.91%\n",
      "Epoch 3100: Train Cost = 0.1129, Val Cost = 0.1131, Train Acc = 95.68%, Val Acc = 95.91%\n",
      "Epoch 3200: Train Cost = 0.1127, Val Cost = 0.1129, Train Acc = 95.68%, Val Acc = 95.91%\n",
      "Epoch 3300: Train Cost = 0.1125, Val Cost = 0.1127, Train Acc = 95.68%, Val Acc = 95.91%\n",
      "Epoch 3400: Train Cost = 0.1123, Val Cost = 0.1125, Train Acc = 95.68%, Val Acc = 95.91%\n",
      "Epoch 3500: Train Cost = 0.1122, Val Cost = 0.1123, Train Acc = 95.68%, Val Acc = 95.91%\n",
      "Epoch 3600: Train Cost = 0.1120, Val Cost = 0.1122, Train Acc = 95.64%, Val Acc = 95.91%\n",
      "Epoch 3700: Train Cost = 0.1119, Val Cost = 0.1120, Train Acc = 95.72%, Val Acc = 95.91%\n",
      "Epoch 3800: Train Cost = 0.1117, Val Cost = 0.1118, Train Acc = 95.72%, Val Acc = 95.91%\n",
      "Epoch 3900: Train Cost = 0.1116, Val Cost = 0.1117, Train Acc = 95.72%, Val Acc = 95.91%\n",
      "Epoch 4000: Train Cost = 0.1115, Val Cost = 0.1115, Train Acc = 95.72%, Val Acc = 95.91%\n",
      "Epoch 4100: Train Cost = 0.1113, Val Cost = 0.1114, Train Acc = 95.72%, Val Acc = 95.91%\n",
      "Epoch 4200: Train Cost = 0.1112, Val Cost = 0.1112, Train Acc = 95.72%, Val Acc = 95.91%\n",
      "Epoch 4300: Train Cost = 0.1111, Val Cost = 0.1111, Train Acc = 95.72%, Val Acc = 95.91%\n",
      "Epoch 4400: Train Cost = 0.1110, Val Cost = 0.1109, Train Acc = 95.72%, Val Acc = 95.91%\n",
      "Epoch 4500: Train Cost = 0.1109, Val Cost = 0.1108, Train Acc = 95.72%, Val Acc = 95.91%\n",
      "Epoch 4600: Train Cost = 0.1108, Val Cost = 0.1107, Train Acc = 95.72%, Val Acc = 95.91%\n",
      "Epoch 4700: Train Cost = 0.1107, Val Cost = 0.1105, Train Acc = 95.72%, Val Acc = 95.91%\n",
      "Epoch 4800: Train Cost = 0.1106, Val Cost = 0.1104, Train Acc = 95.72%, Val Acc = 95.91%\n",
      "Epoch 4900: Train Cost = 0.1105, Val Cost = 0.1103, Train Acc = 95.68%, Val Acc = 95.91%\n",
      "Epoch 5000: Train Cost = 0.1104, Val Cost = 0.1102, Train Acc = 95.68%, Val Acc = 96.07%\n",
      "Epoch 5100: Train Cost = 0.1104, Val Cost = 0.1101, Train Acc = 95.68%, Val Acc = 96.07%\n",
      "Epoch 5200: Train Cost = 0.1103, Val Cost = 0.1100, Train Acc = 95.68%, Val Acc = 96.07%\n",
      "Epoch 5300: Train Cost = 0.1102, Val Cost = 0.1099, Train Acc = 95.68%, Val Acc = 96.07%\n",
      "Epoch 5400: Train Cost = 0.1101, Val Cost = 0.1098, Train Acc = 95.68%, Val Acc = 96.07%\n",
      "Epoch 5500: Train Cost = 0.1100, Val Cost = 0.1097, Train Acc = 95.68%, Val Acc = 96.07%\n",
      "Epoch 5600: Train Cost = 0.1100, Val Cost = 0.1096, Train Acc = 95.68%, Val Acc = 96.07%\n",
      "Epoch 5700: Train Cost = 0.1099, Val Cost = 0.1095, Train Acc = 95.68%, Val Acc = 96.07%\n",
      "Epoch 5800: Train Cost = 0.1098, Val Cost = 0.1094, Train Acc = 95.68%, Val Acc = 96.07%\n",
      "Epoch 5900: Train Cost = 0.1098, Val Cost = 0.1093, Train Acc = 95.68%, Val Acc = 96.07%\n",
      "Epoch 6000: Train Cost = 0.1097, Val Cost = 0.1092, Train Acc = 95.68%, Val Acc = 96.07%\n",
      "Epoch 6100: Train Cost = 0.1097, Val Cost = 0.1091, Train Acc = 95.68%, Val Acc = 96.07%\n",
      "Epoch 6200: Train Cost = 0.1096, Val Cost = 0.1090, Train Acc = 95.68%, Val Acc = 96.07%\n",
      "Epoch 6300: Train Cost = 0.1095, Val Cost = 0.1089, Train Acc = 95.68%, Val Acc = 96.07%\n",
      "Epoch 6400: Train Cost = 0.1095, Val Cost = 0.1089, Train Acc = 95.68%, Val Acc = 96.07%\n",
      "Epoch 6500: Train Cost = 0.1094, Val Cost = 0.1088, Train Acc = 95.68%, Val Acc = 96.07%\n",
      "Epoch 6600: Train Cost = 0.1094, Val Cost = 0.1087, Train Acc = 95.68%, Val Acc = 96.07%\n",
      "Epoch 6700: Train Cost = 0.1093, Val Cost = 0.1086, Train Acc = 95.68%, Val Acc = 96.07%\n",
      "Epoch 6800: Train Cost = 0.1093, Val Cost = 0.1086, Train Acc = 95.68%, Val Acc = 96.07%\n",
      "Epoch 6900: Train Cost = 0.1092, Val Cost = 0.1085, Train Acc = 95.68%, Val Acc = 96.07%\n",
      "Epoch 7000: Train Cost = 0.1092, Val Cost = 0.1084, Train Acc = 95.68%, Val Acc = 96.07%\n",
      "Epoch 7100: Train Cost = 0.1091, Val Cost = 0.1083, Train Acc = 95.68%, Val Acc = 96.07%\n",
      "Epoch 7200: Train Cost = 0.1091, Val Cost = 0.1083, Train Acc = 95.68%, Val Acc = 96.07%\n",
      "Epoch 7300: Train Cost = 0.1090, Val Cost = 0.1082, Train Acc = 95.68%, Val Acc = 96.07%\n",
      "Epoch 7400: Train Cost = 0.1090, Val Cost = 0.1081, Train Acc = 95.68%, Val Acc = 96.07%\n",
      "Epoch 7500: Train Cost = 0.1090, Val Cost = 0.1081, Train Acc = 95.68%, Val Acc = 96.07%\n",
      "Epoch 7600: Train Cost = 0.1089, Val Cost = 0.1080, Train Acc = 95.68%, Val Acc = 96.07%\n",
      "Epoch 7700: Train Cost = 0.1089, Val Cost = 0.1080, Train Acc = 95.68%, Val Acc = 96.07%\n",
      "Epoch 7800: Train Cost = 0.1088, Val Cost = 0.1079, Train Acc = 95.68%, Val Acc = 96.23%\n",
      "Epoch 7900: Train Cost = 0.1088, Val Cost = 0.1078, Train Acc = 95.68%, Val Acc = 96.23%\n",
      "Epoch 8000: Train Cost = 0.1088, Val Cost = 0.1078, Train Acc = 95.68%, Val Acc = 96.23%\n",
      "Epoch 8100: Train Cost = 0.1087, Val Cost = 0.1077, Train Acc = 95.68%, Val Acc = 96.23%\n",
      "Epoch 8200: Train Cost = 0.1087, Val Cost = 0.1077, Train Acc = 95.68%, Val Acc = 96.23%\n",
      "Epoch 8300: Train Cost = 0.1087, Val Cost = 0.1076, Train Acc = 95.68%, Val Acc = 96.23%\n",
      "Epoch 8400: Train Cost = 0.1086, Val Cost = 0.1076, Train Acc = 95.68%, Val Acc = 96.23%\n"
     ]
    },
    {
     "data": {
      "image/png": "[encoded data removed]",
      "text/plain": [
       "<Figure size 1200x500 with 2 Axes>"
      ]
     },
     "metadata": {},
     "output_type": "display_data"
    }
   ],
   "source": [
    "del w, b\n",
    "w, b = initialize(X_train.shape[1])\n",
    "\n",
    "epochs = 8500\n",
    "alpha = 0.7\n",
    "\n",
    "w3, b3, cost_history_train, cost_history_val, accuracy_history_train, accuracy_history_val = model(w, b, X_train, Y_train, X_val, Y_val, epochs, alpha)\n",
    "\n",
    "plt.figure(figsize=(12, 5))\n",
    "# Cost\n",
    "plt.subplot(1, 2, 1)\n",
    "plt.plot(range(len(cost_history_train)), cost_history_train, label='Train Cost', color='blue')\n",
    "plt.plot(range(len(cost_history_val)), cost_history_val, label='Val Cost', color='orange')\n",
    "plt.xlabel('Epochs')\n",
    "plt.ylabel('Cost')\n",
    "plt.title('Cost vs Epochs')\n",
    "plt.legend()\n",
    "# Accuracy\n",
    "plt.subplot(1, 2, 2)\n",
    "plt.plot(range(len(accuracy_history_train)), accuracy_history_train, label='Train Accuracy', color='blue')\n",
    "plt.plot(range(len(accuracy_history_val)), accuracy_history_val, label='Val Accuracy', color='orange')\n",
    "plt.xlabel('Epochs')\n",
    "plt.ylabel('Accuracy (%)')\n",
    "plt.title('Accuracy vs Epochs')\n",
    "plt.legend()\n",
    "\n",
    "plt.tight_layout()\n",
    "plt.show()"
   ]
  },
  {
   "cell_type": "markdown",
   "id": "vloTfhlUvMX8",
   "metadata": {
    "id": "vloTfhlUvMX8"
   },
   "source": [
    "# Saving Model"
   ]
  },
  {
   "cell_type": "code",
   "execution_count": 91,
   "id": "00kkiQF6Xt97",
   "metadata": {
    "id": "00kkiQF6Xt97"
   },
   "outputs": [],
   "source": [
    "with open(\"logistic_regression_model3.pkl\", \"wb\") as file:\n",
    "    pickle.dump((w3, b3), file)"
   ]
  },
  {
   "cell_type": "markdown",
   "id": "puhIMG6_XvUP",
   "metadata": {
    "id": "puhIMG6_XvUP"
   },
   "source": [
    "# Loading Model"
   ]
  },
  {
   "cell_type": "code",
   "execution_count": 96,
   "id": "j9jI818ZXy3r",
   "metadata": {
    "id": "j9jI818ZXy3r"
   },
   "outputs": [],
   "source": [
    "with open(\"logistic_regression_model3.pkl\", \"rb\") as file:\n",
    "    w, b = pickle.load(file)"
   ]
  },
  {
   "cell_type": "markdown",
   "id": "9khFM6jVX1GQ",
   "metadata": {
    "id": "9khFM6jVX1GQ"
   },
   "source": [
    "# Formatting the test set like the training set"
   ]
  },
  {
   "cell_type": "code",
   "execution_count": 110,
   "id": "P4xGzVQCX97J",
   "metadata": {
    "id": "P4xGzVQCX97J"
   },
   "outputs": [],
   "source": [
    "test_df = pd.read_csv(\"/content/drive/MyDrive/Colab Notebooks/test.csv\")"
   ]
  },
  {
   "cell_type": "code",
   "execution_count": 112,
   "id": "x-37nAStX7dG",
   "metadata": {
    "colab": {
     "base_uri": "https://localhost:8080/",
     "height": 206
    },
    "id": "x-37nAStX7dG",
    "outputId": "0b8820dd-1a5c-4ed2-ede6-0749eb055d72"
   },
   "outputs": [
    {
     "data": {
      "text/html": [
       "<div>\n",
       "<style scoped>\n",
       "    .dataframe tbody tr th:only-of-type {\n",
       "        vertical-align: middle;\n",
       "    }\n",
       "\n",
       "    .dataframe tbody tr th {\n",
       "        vertical-align: top;\n",
       "    }\n",
       "\n",
       "    .dataframe thead th {\n",
       "        text-align: right;\n",
       "    }\n",
       "</style>\n",
       "<table border=\"1\" class=\"dataframe\">\n",
       "  <thead>\n",
       "    <tr style=\"text-align: right;\">\n",
       "      <th></th>\n",
       "      <th>desc_id</th>\n",
       "      <th>source_name</th>\n",
       "      <th>review_text</th>\n",
       "      <th>is_accessibility</th>\n",
       "      <th>cleanText</th>\n",
       "    </tr>\n",
       "  </thead>\n",
       "  <tbody>\n",
       "    <tr>\n",
       "      <th>0</th>\n",
       "      <td>1</td>\n",
       "      <td>gp_AOqpTOGrphtVjrB_Udf0Mg-Fb_uFHMpCJyxMRPGZvwk...</td>\n",
       "      <td>I have a problem with your app. Running the l...</td>\n",
       "      <td>Accessibility Review</td>\n",
       "      <td>problem app running last version app google pl...</td>\n",
       "    </tr>\n",
       "    <tr>\n",
       "      <th>1</th>\n",
       "      <td>1</td>\n",
       "      <td>gp_AOqpTOGscxyOhbcCo0Lgj-cyvdO5VJRPgRg42S4gr1-...</td>\n",
       "      <td>I've been using this app for a few weeks now ...</td>\n",
       "      <td>Accessibility Review</td>\n",
       "      <td>using app weeks everything great today suddenl...</td>\n",
       "    </tr>\n",
       "    <tr>\n",
       "      <th>2</th>\n",
       "      <td>1</td>\n",
       "      <td>gp_AOqpTOGTbz6wfmSUzPTxKdubTzn3tVx00D9GU6yxuTs...</td>\n",
       "      <td>I prefer Cool Reader (CR) to Aldiko. CR chang...</td>\n",
       "      <td>Accessibility Review</td>\n",
       "      <td>prefer cool reader aldiko changes pages swipe ...</td>\n",
       "    </tr>\n",
       "    <tr>\n",
       "      <th>3</th>\n",
       "      <td>1</td>\n",
       "      <td>gp_AOqpTOGU444Ao-q5YbeX4g4jiml1NX999cK-7O53aqa...</td>\n",
       "      <td>Missing the ability to invert colour of images...</td>\n",
       "      <td>Accessibility Review</td>\n",
       "      <td>missing ability invert colour images night mod...</td>\n",
       "    </tr>\n",
       "    <tr>\n",
       "      <th>4</th>\n",
       "      <td>1</td>\n",
       "      <td>gp_AOqpTOGUA3EUD0njqe8phB4M0CCo3N4cHDsYeU2N6dG...</td>\n",
       "      <td>Cool Reader allows more customizations than ha...</td>\n",
       "      <td>Accessibility Review</td>\n",
       "      <td>cool reader allows customizations ever seen ep...</td>\n",
       "    </tr>\n",
       "  </tbody>\n",
       "</table>\n",
       "</div>"
      ],
      "text/plain": [
       "   desc_id                                        source_name  \\\n",
       "0        1  gp_AOqpTOGrphtVjrB_Udf0Mg-Fb_uFHMpCJyxMRPGZvwk...   \n",
       "1        1  gp_AOqpTOGscxyOhbcCo0Lgj-cyvdO5VJRPgRg42S4gr1-...   \n",
       "2        1  gp_AOqpTOGTbz6wfmSUzPTxKdubTzn3tVx00D9GU6yxuTs...   \n",
       "3        1  gp_AOqpTOGU444Ao-q5YbeX4g4jiml1NX999cK-7O53aqa...   \n",
       "4        1  gp_AOqpTOGUA3EUD0njqe8phB4M0CCo3N4cHDsYeU2N6dG...   \n",
       "\n",
       "                                         review_text      is_accessibility  \\\n",
       "0   I have a problem with your app. Running the l...  Accessibility Review   \n",
       "1   I've been using this app for a few weeks now ...  Accessibility Review   \n",
       "2   I prefer Cool Reader (CR) to Aldiko. CR chang...  Accessibility Review   \n",
       "3  Missing the ability to invert colour of images...  Accessibility Review   \n",
       "4  Cool Reader allows more customizations than ha...  Accessibility Review   \n",
       "\n",
       "                                           cleanText  \n",
       "0  problem app running last version app google pl...  \n",
       "1  using app weeks everything great today suddenl...  \n",
       "2  prefer cool reader aldiko changes pages swipe ...  \n",
       "3  missing ability invert colour images night mod...  \n",
       "4  cool reader allows customizations ever seen ep...  "
      ]
     },
     "execution_count": 112,
     "metadata": {},
     "output_type": "execute_result"
    }
   ],
   "source": [
    "test_df.head()"
   ]
  },
  {
   "cell_type": "code",
   "execution_count": 114,
   "id": "arulHhaKYAFV",
   "metadata": {
    "id": "arulHhaKYAFV"
   },
   "outputs": [],
   "source": [
    "test_df['vader_sequence'] = test_df['cleanText'].apply(sentence_to_vader_sequence)\n",
    "\n",
    "X_test = np.array(test_df['vader_sequence'].tolist(), dtype=float)\n"
   ]
  },
  {
   "cell_type": "code",
   "execution_count": 116,
   "id": "kKQelIBVYDjG",
   "metadata": {
    "id": "kKQelIBVYDjG"
   },
   "outputs": [],
   "source": [
    "test_df.drop(columns=['desc_id', 'source_name', 'review_text', 'is_accessibility'], inplace=True)"
   ]
  },
  {
   "cell_type": "code",
   "execution_count": 118,
   "id": "2W2C7y6hYFep",
   "metadata": {
    "colab": {
     "base_uri": "https://localhost:8080/",
     "height": 206
    },
    "id": "2W2C7y6hYFep",
    "outputId": "a2e3c0cd-ae91-4f93-be12-814da914c734"
   },
   "outputs": [
    {
     "data": {
      "text/html": [
       "<div>\n",
       "<style scoped>\n",
       "    .dataframe tbody tr th:only-of-type {\n",
       "        vertical-align: middle;\n",
       "    }\n",
       "\n",
       "    .dataframe tbody tr th {\n",
       "        vertical-align: top;\n",
       "    }\n",
       "\n",
       "    .dataframe thead th {\n",
       "        text-align: right;\n",
       "    }\n",
       "</style>\n",
       "<table border=\"1\" class=\"dataframe\">\n",
       "  <thead>\n",
       "    <tr style=\"text-align: right;\">\n",
       "      <th></th>\n",
       "      <th>cleanText</th>\n",
       "      <th>vader_sequence</th>\n",
       "    </tr>\n",
       "  </thead>\n",
       "  <tbody>\n",
       "    <tr>\n",
       "      <th>0</th>\n",
       "      <td>problem app running last version app google pl...</td>\n",
       "      <td>[-1.7, 0, 0, 0, 0, 0, 0, 1.4, 0, 0, 0, 0, 0, 0...</td>\n",
       "    </tr>\n",
       "    <tr>\n",
       "      <th>1</th>\n",
       "      <td>using app weeks everything great today suddenl...</td>\n",
       "      <td>[0, 0, 0, 0, 3.1, 0, 0, 0, 0, 0, 0, 0, 0, 1.3,...</td>\n",
       "    </tr>\n",
       "    <tr>\n",
       "      <th>2</th>\n",
       "      <td>prefer cool reader aldiko changes pages swipe ...</td>\n",
       "      <td>[0, 1.3, 0, 0, 0, 0, 0, 0, 0, 0, 0, 0, 0, 0, 0...</td>\n",
       "    </tr>\n",
       "    <tr>\n",
       "      <th>3</th>\n",
       "      <td>missing ability invert colour images night mod...</td>\n",
       "      <td>[-1.2, 1.3, 0, 0, 0, 0, 0, 0, 1.9, 0, 3.2, 0, ...</td>\n",
       "    </tr>\n",
       "    <tr>\n",
       "      <th>4</th>\n",
       "      <td>cool reader allows customizations ever seen ep...</td>\n",
       "      <td>[1.3, 0, 0, 0, 0, 0, 0, 0, 0, 1.3, 0, 0, 0, 0,...</td>\n",
       "    </tr>\n",
       "  </tbody>\n",
       "</table>\n",
       "</div>"
      ],
      "text/plain": [
       "                                           cleanText  \\\n",
       "0  problem app running last version app google pl...   \n",
       "1  using app weeks everything great today suddenl...   \n",
       "2  prefer cool reader aldiko changes pages swipe ...   \n",
       "3  missing ability invert colour images night mod...   \n",
       "4  cool reader allows customizations ever seen ep...   \n",
       "\n",
       "                                      vader_sequence  \n",
       "0  [-1.7, 0, 0, 0, 0, 0, 0, 1.4, 0, 0, 0, 0, 0, 0...  \n",
       "1  [0, 0, 0, 0, 3.1, 0, 0, 0, 0, 0, 0, 0, 0, 1.3,...  \n",
       "2  [0, 1.3, 0, 0, 0, 0, 0, 0, 0, 0, 0, 0, 0, 0, 0...  \n",
       "3  [-1.2, 1.3, 0, 0, 0, 0, 0, 0, 1.9, 0, 3.2, 0, ...  \n",
       "4  [1.3, 0, 0, 0, 0, 0, 0, 0, 0, 1.3, 0, 0, 0, 0,...  "
      ]
     },
     "execution_count": 118,
     "metadata": {},
     "output_type": "execute_result"
    }
   ],
   "source": [
    "test_df.head()"
   ]
  },
  {
   "cell_type": "markdown",
   "id": "f450f1dc-bb0b-43fc-bd7f-c36541f736ae",
   "metadata": {
    "id": "f450f1dc-bb0b-43fc-bd7f-c36541f736ae"
   },
   "source": [
    "# Prediction & Evaluation"
   ]
  },
  {
   "cell_type": "code",
   "execution_count": 121,
   "id": "kkUYHhpCYH6R",
   "metadata": {
    "id": "kkUYHhpCYH6R"
   },
   "outputs": [],
   "source": [
    "# Forward propagation to get probabilities\n",
    "A_test = forward_propagation(X_test, w, b)\n",
    "\n",
    "test_predictions = (A_test >= 0.5).astype(int)\n"
   ]
  },
  {
   "cell_type": "code",
   "execution_count": 123,
   "id": "yaOo1CKIYKdj",
   "metadata": {
    "colab": {
     "base_uri": "https://localhost:8080/"
    },
    "id": "yaOo1CKIYKdj",
    "outputId": "7996e9fc-158c-40e4-c14f-ecd9556ddacb"
   },
   "outputs": [
    {
     "name": "stdout",
     "output_type": "stream",
     "text": [
      "Submission file saved !\n"
     ]
    }
   ],
   "source": [
    "# numbering each row\n",
    "submission_df = pd.DataFrame({\n",
    "    'id': range(len(test_df)),\n",
    "    'Vader_Binary_Sentiment': test_predictions.flatten()  # Converts array to column\n",
    "})\n",
    "\n",
    "submission_df.to_csv(\"/content/drive/MyDrive/Colab Notebooks/submission.csv\", index=False)\n",
    "\n",
    "print(\"Submission file saved !\")\n"
   ]
  },
  {
   "cell_type": "code",
   "execution_count": null,
   "id": "dbfd7cc4-ba53-4328-a574-11ca6e4a8f7c",
   "metadata": {},
   "outputs": [],
   "source": []
  }
 ],
 "metadata": {
  "colab": {
   "provenance": []
  },
  "kernelspec": {
   "display_name": "Python 3 (ipykernel)",
   "language": "python",
   "name": "python3"
  },
  "language_info": {
   "codemirror_mode": {
    "name": "ipython",
    "version": 3
   },
   "file_extension": ".py",
   "mimetype": "text/x-python",
   "name": "python",
   "nbconvert_exporter": "python",
   "pygments_lexer": "ipython3",
   "version": "3.12.7"
  }
 },
 "nbformat": 4,
 "nbformat_minor": 5
}
